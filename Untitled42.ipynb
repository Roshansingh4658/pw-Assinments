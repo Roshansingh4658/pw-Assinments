{
 "cells": [
  {
   "cell_type": "code",
   "execution_count": 1,
   "id": "ead96609",
   "metadata": {},
   "outputs": [
    {
     "name": "stdout",
     "output_type": "stream",
     "text": [
      "Enter a number: 885859104\n",
      "The number is positive.\n"
     ]
    }
   ],
   "source": [
    "def check_number(number):\n",
    "    if number > 0:\n",
    "        print(\"The number is positive.\")\n",
    "    elif number == 0:\n",
    "        print(\"The number is zero.\")\n",
    "    else:\n",
    "        print(\"The number is negative.\")\n",
    "\n",
    "# Input from user\n",
    "num = float(input(\"Enter a number: \"))\n",
    "check_number(num)\n"
   ]
  },
  {
   "cell_type": "code",
   "execution_count": 2,
   "id": "9f868ed0",
   "metadata": {},
   "outputs": [
    {
     "name": "stdout",
     "output_type": "stream",
     "text": [
      "Enter your age: 22\n",
      "You are eligible to vote.\n"
     ]
    }
   ],
   "source": [
    "def check_eligibility(age):\n",
    "    if age >= 18:\n",
    "        print(\"You are eligible to vote.\")\n",
    "    else:\n",
    "        print(\"You are not eligible to vote yet.\")\n",
    "\n",
    "# Input from user\n",
    "age = int(input(\"Enter your age: \"))\n",
    "check_eligibility(age)\n"
   ]
  },
  {
   "cell_type": "code",
   "execution_count": 3,
   "id": "738bcea3",
   "metadata": {},
   "outputs": [
    {
     "name": "stdout",
     "output_type": "stream",
     "text": [
      "Enter the first number: 22\n",
      "Enter the second number: 22\n",
      "The maximum of the two numbers is: 22.0\n"
     ]
    }
   ],
   "source": [
    "def find_maximum(num1, num2):\n",
    "    if num1 > num2:\n",
    "        max_num = num1\n",
    "    else:\n",
    "        max_num = num2\n",
    "    return max_num\n",
    "\n",
    "# Input from user\n",
    "num1 = float(input(\"Enter the first number: \"))\n",
    "num2 = float(input(\"Enter the second number: \"))\n",
    "\n",
    "maximum = find_maximum(num1, num2)\n",
    "print(\"The maximum of the two numbers is:\", maximum)\n"
   ]
  },
  {
   "cell_type": "code",
   "execution_count": 1,
   "id": "39c2e3da",
   "metadata": {},
   "outputs": [
    {
     "name": "stdout",
     "output_type": "stream",
     "text": [
      "Enter a year: 2023\n",
      "2023 is not a leap year.\n"
     ]
    }
   ],
   "source": [
    "def is_leap_year(year):\n",
    "    if (year % 4 == 0 and year % 100 != 0) or (year % 400 == 0):\n",
    "        return True\n",
    "    else:\n",
    "        return False\n",
    "\n",
    "# Input from user\n",
    "year = int(input(\"Enter a year: \"))\n",
    "\n",
    "if is_leap_year(year):\n",
    "    print(year, \"is a leap year.\")\n",
    "else:\n",
    "    print(year, \"is not a leap year.\")\n"
   ]
  },
  {
   "cell_type": "code",
   "execution_count": 2,
   "id": "fab3c4d9",
   "metadata": {},
   "outputs": [
    {
     "name": "stdout",
     "output_type": "stream",
     "text": [
      "Enter a character: Ninja\n",
      "Please enter only one character.\n"
     ]
    }
   ],
   "source": [
    "def check_vowel_or_consonant(char):\n",
    "    # Convert the character to lowercase for case-insensitive comparison\n",
    "    char = char.lower()\n",
    "\n",
    "    # Check if the character is a vowel\n",
    "    if char in 'aeiou':\n",
    "        return \"Vowel\"\n",
    "    else:\n",
    "        return \"Consonant\"\n",
    "\n",
    "# Input from user\n",
    "character = input(\"Enter a character: \")\n",
    "\n",
    "# Checking if the input is a single character\n",
    "if len(character) == 1:\n",
    "    result = check_vowel_or_consonant(character)\n",
    "    print(f\"The character '{character}' is a {result}.\")\n",
    "else:\n",
    "    print(\"Please enter only one character.\")\n"
   ]
  },
  {
   "cell_type": "code",
   "execution_count": 3,
   "id": "3eefba89",
   "metadata": {},
   "outputs": [
    {
     "name": "stdout",
     "output_type": "stream",
     "text": [
      "Enter a number: 34\n",
      "The number 34 is even.\n"
     ]
    }
   ],
   "source": [
    "def check_even_odd(number):\n",
    "    if number % 2 == 0:\n",
    "        return \"even\"\n",
    "    else:\n",
    "        return \"odd\"\n",
    "\n",
    "# Input from user\n",
    "number = int(input(\"Enter a number: \"))\n",
    "\n",
    "result = check_even_odd(number)\n",
    "print(f\"The number {number} is {result}.\")\n"
   ]
  },
  {
   "cell_type": "code",
   "execution_count": 4,
   "id": "6a9d82cb",
   "metadata": {},
   "outputs": [
    {
     "name": "stdout",
     "output_type": "stream",
     "text": [
      "Enter a number: 33\n",
      "The absolute value of 33.0 is 33.0\n"
     ]
    }
   ],
   "source": [
    "def absolute_value(number):\n",
    "    if number < 0:\n",
    "        return -number\n",
    "    else:\n",
    "        return number\n",
    "\n",
    "# Test the function\n",
    "num = float(input(\"Enter a number: \"))\n",
    "print(\"The absolute value of\", num, \"is\", absolute_value(num))\n"
   ]
  },
  {
   "cell_type": "code",
   "execution_count": 5,
   "id": "fa9b9d41",
   "metadata": {},
   "outputs": [
    {
     "name": "stdout",
     "output_type": "stream",
     "text": [
      "Enter the first number: 22\n",
      "Enter the second number: 33\n",
      "Enter the third number: 55\n",
      "The largest of the three numbers is: 55.0\n"
     ]
    }
   ],
   "source": [
    "def find_largest(num1, num2, num3):\n",
    "    if num1 >= num2 and num1 >= num3:\n",
    "        return num1\n",
    "    elif num2 >= num1 and num2 >= num3:\n",
    "        return num2\n",
    "    else:\n",
    "        return num3\n",
    "\n",
    "# Input from user\n",
    "num1 = float(input(\"Enter the first number: \"))\n",
    "num2 = float(input(\"Enter the second number: \"))\n",
    "num3 = float(input(\"Enter the third number: \"))\n",
    "\n",
    "largest = find_largest(num1, num2, num3)\n",
    "print(\"The largest of the three numbers is:\", largest)\n"
   ]
  },
  {
   "cell_type": "code",
   "execution_count": 6,
   "id": "db7f5bc3",
   "metadata": {},
   "outputs": [
    {
     "name": "stdout",
     "output_type": "stream",
     "text": [
      "Enter a string: Roshan \n",
      "The string is not a palindrome.\n"
     ]
    }
   ],
   "source": [
    "def is_palindrome(string):\n",
    "    # Remove spaces and convert to lowercase for case-insensitive comparison\n",
    "    string = string.replace(\" \", \"\").lower()\n",
    "    \n",
    "    # Check if the string is equal to its reverse\n",
    "    return string == string[::-1]\n",
    "\n",
    "# Input from user\n",
    "input_string = input(\"Enter a string: \")\n",
    "\n",
    "if is_palindrome(input_string):\n",
    "    print(\"The string is a palindrome.\")\n",
    "else:\n",
    "    print(\"The string is not a palindrome.\")\n"
   ]
  },
  {
   "cell_type": "code",
   "execution_count": 7,
   "id": "19612cf8",
   "metadata": {},
   "outputs": [
    {
     "name": "stdout",
     "output_type": "stream",
     "text": [
      "Enter the student's score: 300\n",
      "Invalid score. Score must be between 0 and 100.\n"
     ]
    }
   ],
   "source": [
    "def calculate_grade(score):\n",
    "    if score >= 90:\n",
    "        return 'A'\n",
    "    elif score >= 80:\n",
    "        return 'B'\n",
    "    elif score >= 70:\n",
    "        return 'C'\n",
    "    elif score >= 60:\n",
    "        return 'D'\n",
    "    else:\n",
    "        return 'F'\n",
    "\n",
    "# Input from user\n",
    "score = float(input(\"Enter the student's score: \"))\n",
    "\n",
    "# Checking if the score is within the valid range\n",
    "if 0 <= score <= 100:\n",
    "    grade = calculate_grade(score)\n",
    "    print(f\"The student's grade is {grade}.\")\n",
    "else:\n",
    "    print(\"Invalid score. Score must be between 0 and 100.\")\n"
   ]
  },
  {
   "cell_type": "markdown",
   "id": "093aa3ad",
   "metadata": {},
   "source": [
    "# \n",
    "\n",
    "Nested If-Else Statements"
   ]
  },
  {
   "cell_type": "code",
   "execution_count": 8,
   "id": "ea2c27f8",
   "metadata": {},
   "outputs": [
    {
     "name": "stdout",
     "output_type": "stream",
     "text": [
      "Enter the first number: 45\n",
      "Enter the second number: 76\n",
      "Enter the third number: 64\n",
      "The largest of the three numbers is: 76.0\n"
     ]
    }
   ],
   "source": [
    "def find_largest(num1, num2, num3):\n",
    "    if num1 >= num2:\n",
    "        if num1 >= num3:\n",
    "            return num1\n",
    "        else:\n",
    "            return num3\n",
    "    else:\n",
    "        if num2 >= num3:\n",
    "            return num2\n",
    "        else:\n",
    "            return num3\n",
    "\n",
    "# Input from user\n",
    "num1 = float(input(\"Enter the first number: \"))\n",
    "num2 = float(input(\"Enter the second number: \"))\n",
    "num3 = float(input(\"Enter the third number: \"))\n",
    "\n",
    "largest = find_largest(num1, num2, num3)\n",
    "print(\"The largest of the three numbers is:\", largest)\n"
   ]
  },
  {
   "cell_type": "code",
   "execution_count": 10,
   "id": "31a6d78a",
   "metadata": {},
   "outputs": [
    {
     "name": "stdout",
     "output_type": "stream",
     "text": [
      "Enter the length of the first side: 1\n",
      "Enter the length of the second side: 3\n",
      "Enter the length of the third side: 2\n",
      "The given side lengths do not form a valid triangle.\n"
     ]
    }
   ],
   "source": [
    "def triangle_type(a, b, c):\n",
    "    if a == b == c:\n",
    "        return \"Equilateral\"\n",
    "    elif a == b or b == c or a == c:\n",
    "        return \"Isosceles\"\n",
    "    else:\n",
    "        return \"Scalene\"\n",
    "\n",
    "# Input from user\n",
    "side1 = float(input(\"Enter the length of the first side: \"))\n",
    "side2 = float(input(\"Enter the length of the second side: \"))\n",
    "side3 = float(input(\"Enter the length of the third side: \"))\n",
    "\n",
    "# Check if the triangle is valid\n",
    "if side1 + side2 > side3 and side1 + side3 > side2 and side2 + side3 > side1:\n",
    "    triangle = triangle_type(side1, side2, side3)\n",
    "    print(\"The triangle is\", triangle)\n",
    "else:\n",
    "    print(\"The given side lengths do not form a valid triangle.\")\n"
   ]
  },
  {
   "cell_type": "code",
   "execution_count": 11,
   "id": "b4f955a7",
   "metadata": {},
   "outputs": [
    {
     "name": "stdout",
     "output_type": "stream",
     "text": [
      "Enter a year: 2023\n",
      "2023 is not a leap year.\n",
      "2023 is not a century year.\n"
     ]
    }
   ],
   "source": [
    "def is_leap_year(year):\n",
    "    if (year % 4 == 0 and year % 100 != 0) or (year % 400 == 0):\n",
    "        return True\n",
    "    else:\n",
    "        return False\n",
    "\n",
    "def is_century_year(year):\n",
    "    if year % 100 == 0:\n",
    "        return True\n",
    "    else:\n",
    "        return False\n",
    "\n",
    "# Input from user\n",
    "year = int(input(\"Enter a year: \"))\n",
    "\n",
    "if is_leap_year(year):\n",
    "    print(year, \"is a leap year.\")\n",
    "else:\n",
    "    print(year, \"is not a leap year.\")\n",
    "\n",
    "if is_century_year(year):\n",
    "    print(year, \"is a century year.\")\n",
    "else:\n",
    "    print(year, \"is not a century year.\")\n"
   ]
  },
  {
   "cell_type": "code",
   "execution_count": 12,
   "id": "76d4c562",
   "metadata": {},
   "outputs": [
    {
     "name": "stdout",
     "output_type": "stream",
     "text": [
      "Enter a number: 224\n",
      "The number is positive.\n"
     ]
    }
   ],
   "source": [
    "def check_number(number):\n",
    "    if number > 0:\n",
    "        print(\"The number is positive.\")\n",
    "    elif number == 0:\n",
    "        print(\"The number is zero.\")\n",
    "    else:\n",
    "        print(\"The number is negative.\")\n",
    "\n",
    "# Input from user\n",
    "num = float(input(\"Enter a number: \"))\n",
    "check_number(num)\n"
   ]
  },
  {
   "cell_type": "code",
   "execution_count": 13,
   "id": "91eb002c",
   "metadata": {},
   "outputs": [
    {
     "name": "stdout",
     "output_type": "stream",
     "text": [
      "Enter your age: 22\n",
      "You are not a teenager.\n"
     ]
    }
   ],
   "source": [
    "def is_teenager(age):\n",
    "    if 13 <= age <= 19:\n",
    "        return True\n",
    "    else:\n",
    "        return False\n",
    "\n",
    "# Input from user\n",
    "age = int(input(\"Enter your age: \"))\n",
    "\n",
    "if is_teenager(age):\n",
    "    print(\"You are a teenager.\")\n",
    "else:\n",
    "    print(\"You are not a teenager.\")\n"
   ]
  },
  {
   "cell_type": "code",
   "execution_count": 14,
   "id": "9c647a5e",
   "metadata": {},
   "outputs": [
    {
     "name": "stdout",
     "output_type": "stream",
     "text": [
      "Enter the measure of the angle in degrees: 45\n",
      "The angle is classified as Acute angle\n"
     ]
    }
   ],
   "source": [
    "def angle_type(angle):\n",
    "    if angle < 90:\n",
    "        return \"Acute angle\"\n",
    "    elif angle == 90:\n",
    "        return \"Right angle\"\n",
    "    else:\n",
    "        return \"Obtuse angle\"\n",
    "\n",
    "# Input from user\n",
    "angle_measure = float(input(\"Enter the measure of the angle in degrees: \"))\n",
    "\n",
    "if angle_measure > 0:\n",
    "    angle_classification = angle_type(angle_measure)\n",
    "    print(\"The angle is classified as\", angle_classification)\n",
    "else:\n",
    "    print(\"Invalid input. Angle measure should be positive.\")\n"
   ]
  },
  {
   "cell_type": "code",
   "execution_count": 15,
   "id": "cc23d67c",
   "metadata": {},
   "outputs": [
    {
     "name": "stdout",
     "output_type": "stream",
     "text": [
      "Enter the coefficient of x^2 (a): 55\n",
      "Enter the coefficient of x (b): 87826\n",
      "Enter the constant term (c): 24\n",
      "The roots are real numbers:\n",
      "Root 1: -0.0002732676440659402\n",
      "Root 2: -1596.8360903687196\n"
     ]
    }
   ],
   "source": [
    "import math\n",
    "\n",
    "def calculate_roots(a, b, c):\n",
    "    discriminant = b**2 - 4*a*c\n",
    "\n",
    "    if discriminant > 0:\n",
    "        root1 = (-b + math.sqrt(discriminant)) / (2*a)\n",
    "        root2 = (-b - math.sqrt(discriminant)) / (2*a)\n",
    "        return root1, root2\n",
    "    elif discriminant == 0:\n",
    "        root = -b / (2*a)\n",
    "        return root, root\n",
    "    else:\n",
    "        real_part = -b / (2*a)\n",
    "        imaginary_part = math.sqrt(abs(discriminant)) / (2*a)\n",
    "        root1 = complex(real_part, imaginary_part)\n",
    "        root2 = complex(real_part, -imaginary_part)\n",
    "        return root1, root2\n",
    "\n",
    "# Input from user\n",
    "a = float(input(\"Enter the coefficient of x^2 (a): \"))\n",
    "b = float(input(\"Enter the coefficient of x (b): \"))\n",
    "c = float(input(\"Enter the constant term (c): \"))\n",
    "\n",
    "# Calculate roots\n",
    "roots = calculate_roots(a, b, c)\n",
    "\n",
    "# Print the roots\n",
    "if isinstance(roots[0], complex):\n",
    "    print(\"The roots are complex numbers:\")\n",
    "    print(\"Root 1:\", roots[0])\n",
    "    print(\"Root 2:\", roots[1])\n",
    "else:\n",
    "    print(\"The roots are real numbers:\")\n",
    "    print(\"Root 1:\", roots[0])\n",
    "    print(\"Root 2:\", roots[1])\n"
   ]
  },
  {
   "cell_type": "code",
   "execution_count": 17,
   "id": "2b541538",
   "metadata": {},
   "outputs": [
    {
     "name": "stdout",
     "output_type": "stream",
     "text": [
      "Enter a number (1 for Monday, 2 for Tuesday, etc.): 2\n",
      "The day of the week is: Tuesday\n"
     ]
    }
   ],
   "source": [
    "def determine_day_of_week(number):\n",
    "    days_of_week = [\"Monday\", \"Tuesday\", \"Wednesday\", \"Thursday\", \"Friday\", \"Saturday\", \"Sunday\"]\n",
    "    if 1 <= number <= 7:\n",
    "        return days_of_week[number - 1]\n",
    "    else:\n",
    "        return \"Invalid input. Please enter a number between 1 and 7.\"\n",
    "\n",
    "# Input from user\n",
    "day_number = int(input(\"Enter a number (1 for Monday, 2 for Tuesday, etc.): \"))\n",
    "\n",
    "# Determine the day of the week\n",
    "day = determine_day_of_week(day_number)\n",
    "print(\"The day of the week is:\", day)\n"
   ]
  },
  {
   "cell_type": "code",
   "execution_count": 18,
   "id": "868ab370",
   "metadata": {},
   "outputs": [
    {
     "name": "stdout",
     "output_type": "stream",
     "text": [
      "Enter a year: 2022\n",
      "2022 is not a leap year.\n",
      "2022 is not evenly divisible by 400.\n"
     ]
    }
   ],
   "source": [
    "def is_leap_year(year):\n",
    "    if (year % 4 == 0 and year % 100 != 0) or (year % 400 == 0):\n",
    "        return True\n",
    "    else:\n",
    "        return False\n",
    "\n",
    "def is_divisible_by_400(year):\n",
    "    if year % 400 == 0:\n",
    "        return True\n",
    "    else:\n",
    "        return False\n",
    "\n",
    "# Input from user\n",
    "year = int(input(\"Enter a year: \"))\n",
    "\n",
    "if is_leap_year(year):\n",
    "    print(year, \"is a leap year.\")\n",
    "else:\n",
    "    print(year, \"is not a leap year.\")\n",
    "\n",
    "if is_divisible_by_400(year):\n",
    "    print(year, \"is evenly divisible by 400.\")\n",
    "else:\n",
    "    print(year, \"is not evenly divisible by 400.\")\n"
   ]
  },
  {
   "cell_type": "code",
   "execution_count": 20,
   "id": "80abecae",
   "metadata": {},
   "outputs": [
    {
     "name": "stdout",
     "output_type": "stream",
     "text": [
      "Enter a number to check if it's prime: 22\n",
      "22 is not a prime number.\n"
     ]
    }
   ],
   "source": [
    "def is_prime(number):\n",
    "    if number <= 1:\n",
    "        return False\n",
    "    elif number <= 3:\n",
    "        return True\n",
    "    elif number % 2 == 0 or number % 3 == 0:\n",
    "        return False\n",
    "    else:\n",
    "        i = 5\n",
    "        while i * i <= number:\n",
    "            if number % i == 0 or number % (i + 2) == 0:\n",
    "                return False\n",
    "            i += 6\n",
    "        return True\n",
    "\n",
    "# Input from user\n",
    "num = int(input(\"Enter a number to check if it's prime: \"))\n",
    "\n",
    "if is_prime(num):\n",
    "    print(num, \"is a prime number.\")\n",
    "else:\n",
    "    print(num, \"is not a prime number.\")\n"
   ]
  },
  {
   "cell_type": "markdown",
   "id": "a0296f2b",
   "metadata": {},
   "source": [
    "# Elif Statements"
   ]
  },
  {
   "cell_type": "code",
   "execution_count": 21,
   "id": "ab5ccb3b",
   "metadata": {},
   "outputs": [
    {
     "name": "stdout",
     "output_type": "stream",
     "text": [
      "Enter the student's score: 45\n",
      "The student's grade is F.\n"
     ]
    }
   ],
   "source": [
    "def assign_grade(score):\n",
    "    if score >= 90:\n",
    "        return 'A'\n",
    "    elif score >= 80:\n",
    "        return 'B'\n",
    "    elif score >= 70:\n",
    "        return 'C'\n",
    "    elif score >= 60:\n",
    "        return 'D'\n",
    "    else:\n",
    "        return 'F'\n",
    "\n",
    "# Input from user\n",
    "score = float(input(\"Enter the student's score: \"))\n",
    "\n",
    "# Check if the score is within the valid range\n",
    "if 0 <= score <= 100:\n",
    "    grade = assign_grade(score)\n",
    "    print(f\"The student's grade is {grade}.\")\n",
    "else:\n",
    "    print(\"Invalid score. Score must be between 0 and 100.\")\n"
   ]
  },
  {
   "cell_type": "code",
   "execution_count": 22,
   "id": "adbebc25",
   "metadata": {},
   "outputs": [
    {
     "name": "stdout",
     "output_type": "stream",
     "text": [
      "Enter the first angle of the triangle: 45\n",
      "Enter the second angle of the triangle: 76\n",
      "Enter the third angle of the triangle: 86\n",
      "Invalid triangle. The sum of angles should be 180 degrees.\n"
     ]
    }
   ],
   "source": [
    "def triangle_type(angle1, angle2, angle3):\n",
    "    if angle1 == 90 or angle2 == 90 or angle3 == 90:\n",
    "        return \"Right triangle\"\n",
    "    elif angle1 < 90 and angle2 < 90 and angle3 < 90:\n",
    "        return \"Acute triangle\"\n",
    "    elif angle1 > 90 or angle2 > 90 or angle3 > 90:\n",
    "        return \"Obtuse triangle\"\n",
    "    else:\n",
    "        return \"Invalid triangle\"\n",
    "\n",
    "# Input from user\n",
    "angle1 = float(input(\"Enter the first angle of the triangle: \"))\n",
    "angle2 = float(input(\"Enter the second angle of the triangle: \"))\n",
    "angle3 = float(input(\"Enter the third angle of the triangle: \"))\n",
    "\n",
    "# Check if the angles form a valid triangle (sum of angles equals 180)\n",
    "if angle1 + angle2 + angle3 == 180:\n",
    "    triangle = triangle_type(angle1, angle2, angle3)\n",
    "    print(\"The triangle is\", triangle)\n",
    "else:\n",
    "    print(\"Invalid triangle. The sum of angles should be 180 degrees.\")\n"
   ]
  },
  {
   "cell_type": "code",
   "execution_count": 23,
   "id": "a85c95a1",
   "metadata": {},
   "outputs": [
    {
     "name": "stdout",
     "output_type": "stream",
     "text": [
      "Enter your weight in kilograms: 34\n",
      "Enter your height in meters: 87\n",
      "Your BMI is 0.00, which is categorized as Underweight.\n"
     ]
    }
   ],
   "source": [
    "def categorize_bmi(bmi):\n",
    "    if bmi < 18.5:\n",
    "        return \"Underweight\"\n",
    "    elif 18.5 <= bmi < 25:\n",
    "        return \"Normal weight\"\n",
    "    elif 25 <= bmi < 30:\n",
    "        return \"Overweight\"\n",
    "    else:\n",
    "        return \"Obese\"\n",
    "\n",
    "# Input from user\n",
    "weight = float(input(\"Enter your weight in kilograms: \"))\n",
    "height = float(input(\"Enter your height in meters: \"))\n",
    "\n",
    "# Calculate BMI\n",
    "bmi = weight / (height ** 2)\n",
    "\n",
    "# Categorize BMI\n",
    "category = categorize_bmi(bmi)\n",
    "\n",
    "# Print the result\n",
    "print(f\"Your BMI is {bmi:.2f}, which is categorized as {category}.\")\n"
   ]
  },
  {
   "cell_type": "code",
   "execution_count": 24,
   "id": "f37a0e96",
   "metadata": {},
   "outputs": [
    {
     "name": "stdout",
     "output_type": "stream",
     "text": [
      "Enter a number: 54\n",
      "The number is positive.\n"
     ]
    }
   ],
   "source": [
    "def check_number(number):\n",
    "    if number > 0:\n",
    "        print(\"The number is positive.\")\n",
    "    elif number < 0:\n",
    "        print(\"The number is negative.\")\n",
    "    else:\n",
    "        print(\"The number is zero.\")\n",
    "\n",
    "# Input from user\n",
    "num = float(input(\"Enter a number: \"))\n",
    "check_number(num)\n"
   ]
  },
  {
   "cell_type": "code",
   "execution_count": 26,
   "id": "77ba1b49",
   "metadata": {},
   "outputs": [
    {
     "name": "stdout",
     "output_type": "stream",
     "text": [
      "Enter a character: w\n",
      "The character is lowercase.\n"
     ]
    }
   ],
   "source": [
    "def check_character_type(char):\n",
    "    if char.isupper():\n",
    "        print(\"The character is uppercase.\")\n",
    "    elif char.islower():\n",
    "        print(\"The character is lowercase.\")\n",
    "    else:\n",
    "        print(\"The character is special.\")\n",
    "\n",
    "# Input from user\n",
    "character = input(\"Enter a character: \")\n",
    "\n",
    "# Checking if the input is a single character\n",
    "if len(character) == 1:\n",
    "    check_character_type(character)\n",
    "else:\n",
    "    print(\"Please enter only one character.\")\n"
   ]
  },
  {
   "cell_type": "code",
   "execution_count": 29,
   "id": "354046af",
   "metadata": {},
   "outputs": [
    {
     "name": "stdout",
     "output_type": "stream",
     "text": [
      "Enter the price per item: 34\n",
      "Enter the quantity purchased: 2\n",
      "The discounted price for 2 items is $68.00.\n"
     ]
    }
   ],
   "source": [
    "def calculate_discounted_price(price, quantity):\n",
    "    total_cost = price * quantity\n",
    "    discount = 0  # Initialize discount variable\n",
    "    \n",
    "    # Apply discount based on purchase amount\n",
    "    if total_cost >= 1000:\n",
    "        discount = 0.1  # 10% discount for total purchase amount >= $1000\n",
    "    elif total_cost >= 500:\n",
    "        discount = 0.05  # 5% discount for total purchase amount >= $500\n",
    "    \n",
    "    # Calculate discounted price\n",
    "    discounted_price = total_cost - (total_cost * discount)\n",
    "    return discounted_price\n",
    "\n",
    "# Input from user\n",
    "price_per_item = float(input(\"Enter the price per item: \"))\n",
    "quantity = int(input(\"Enter the quantity purchased: \"))\n",
    "\n",
    "# Calculate discounted price\n",
    "discounted_price = calculate_discounted_price(price_per_item, quantity)\n",
    "\n",
    "# Print the result\n",
    "print(f\"The discounted price for {quantity} items is ${discounted_price:.2f}.\")\n"
   ]
  },
  {
   "cell_type": "code",
   "execution_count": 30,
   "id": "29cacff4",
   "metadata": {},
   "outputs": [
    {
     "name": "stdout",
     "output_type": "stream",
     "text": [
      "Enter the number of units consumed: 76\n",
      "The electricity bill for 76 units is $114.00.\n"
     ]
    }
   ],
   "source": [
    "def calculate_electricity_bill(units):\n",
    "    total_bill = 0\n",
    "    \n",
    "    if units <= 100:\n",
    "        total_bill = units * 1.50\n",
    "    elif units <= 200:\n",
    "        total_bill = 100 * 1.50 + (units - 100) * 2.00\n",
    "    elif units <= 300:\n",
    "        total_bill = 100 * 1.50 + 100 * 2.00 + (units - 200) * 3.00\n",
    "    else:\n",
    "        total_bill = 100 * 1.50 + 100 * 2.00 + 100 * 3.00 + (units - 300) * 4.00\n",
    "    \n",
    "    return total_bill\n",
    "\n",
    "# Input from user\n",
    "units_consumed = int(input(\"Enter the number of units consumed: \"))\n",
    "\n",
    "# Calculate electricity bill\n",
    "bill_amount = calculate_electricity_bill(units_consumed)\n",
    "\n",
    "# Print the result\n",
    "print(f\"The electricity bill for {units_consumed} units is ${bill_amount:.2f}.\")\n"
   ]
  },
  {
   "cell_type": "code",
   "execution_count": 31,
   "id": "d43a1822",
   "metadata": {},
   "outputs": [
    {
     "name": "stdout",
     "output_type": "stream",
     "text": [
      "Enter the lengths of the sides of the quadrilateral separated by spaces: 54\n",
      "Enter the measures of the angles of the quadrilateral separated by spaces: 87\n",
      "Invalid input. Quadrilateral requires 4 sides and 4 angles.\n"
     ]
    }
   ],
   "source": [
    "def determine_quadrilateral_type(sides, angles):\n",
    "    if len(sides) == 4 and len(angles) == 4:\n",
    "        if all(angle == 90 for angle in angles):\n",
    "            return \"Square\" if len(set(sides)) == 1 else \"Rectangle\"\n",
    "        elif all(angle == 90 for angle in angles[:-1]) and angles[-1] == 180:\n",
    "            return \"Trapezium\"\n",
    "        elif all(angle == 90 for angle in angles[:-1]) and angles[-1] == 360:\n",
    "            return \"Parallelogram\"\n",
    "        else:\n",
    "            return \"Quadrilateral\"\n",
    "    else:\n",
    "        return \"Invalid input. Quadrilateral requires 4 sides and 4 angles.\"\n",
    "\n",
    "# Input from user\n",
    "side_lengths = list(map(float, input(\"Enter the lengths of the sides of the quadrilateral separated by spaces: \").split()))\n",
    "angles = list(map(float, input(\"Enter the measures of the angles of the quadrilateral separated by spaces: \").split()))\n",
    "\n",
    "# Check if the input is valid\n",
    "if len(side_lengths) == 4 and len(angles) == 4:\n",
    "    # Determine the type of quadrilateral\n",
    "    quadrilateral_type = determine_quadrilateral_type(side_lengths, angles)\n",
    "    print(\"The quadrilateral is a\", quadrilateral_type)\n",
    "else:\n",
    "    print(\"Invalid input. Quadrilateral requires 4 sides and 4 angles.\")\n"
   ]
  },
  {
   "cell_type": "code",
   "execution_count": 32,
   "id": "3dee266e",
   "metadata": {},
   "outputs": [
    {
     "name": "stdout",
     "output_type": "stream",
     "text": [
      "Enter the month (as a number between 1 and 12): 5\n",
      "The season for the month 5 is Spring.\n"
     ]
    }
   ],
   "source": [
    "def determine_season(month):\n",
    "    if month in (12, 1, 2):\n",
    "        return \"Winter\"\n",
    "    elif month in (3, 4, 5):\n",
    "        return \"Spring\"\n",
    "    elif month in (6, 7, 8):\n",
    "        return \"Summer\"\n",
    "    elif month in (9, 10, 11):\n",
    "        return \"Autumn\"\n",
    "    else:\n",
    "        return \"Invalid month. Please enter a number between 1 and 12.\"\n",
    "\n",
    "# Input from user\n",
    "month = int(input(\"Enter the month (as a number between 1 and 12): \"))\n",
    "\n",
    "# Determine the season\n",
    "season = determine_season(month)\n",
    "\n",
    "# Print the result\n",
    "print(f\"The season for the month {month} is {season}.\")\n"
   ]
  },
  {
   "cell_type": "code",
   "execution_count": 33,
   "id": "00fbf57b",
   "metadata": {},
   "outputs": [
    {
     "name": "stdout",
     "output_type": "stream",
     "text": [
      "Enter the year: 2023\n",
      "Enter the month (as a number between 1 and 12): 6\n",
      "2023 is a common year.\n",
      "The month 6 has 30 days.\n"
     ]
    }
   ],
   "source": [
    "def is_leap_year(year):\n",
    "    if (year % 4 == 0 and year % 100 != 0) or (year % 400 == 0):\n",
    "        return True\n",
    "    else:\n",
    "        return False\n",
    "\n",
    "def days_in_month(month, year):\n",
    "    if month in (1, 3, 5, 7, 8, 10, 12):\n",
    "        return 31\n",
    "    elif month in (4, 6, 9, 11):\n",
    "        return 30\n",
    "    elif month == 2:\n",
    "        if is_leap_year(year):\n",
    "            return 29\n",
    "        else:\n",
    "            return 28\n",
    "    else:\n",
    "        return None\n",
    "\n",
    "# Input from user\n",
    "year = int(input(\"Enter the year: \"))\n",
    "month = int(input(\"Enter the month (as a number between 1 and 12): \"))\n",
    "\n",
    "# Determine the type of year\n",
    "if is_leap_year(year):\n",
    "    print(f\"{year} is a leap year.\")\n",
    "else:\n",
    "    print(f\"{year} is a common year.\")\n",
    "\n",
    "# Determine the number of days in the month\n",
    "num_days = days_in_month(month, year)\n",
    "if num_days is not None:\n",
    "    print(f\"The month {month} has {num_days} days.\")\n",
    "else:\n",
    "    print(\"Invalid month. Please enter a number between 1 and 12.\")\n"
   ]
  },
  {
   "cell_type": "markdown",
   "id": "08e9b6ef",
   "metadata": {},
   "source": [
    "# Basic Level"
   ]
  },
  {
   "cell_type": "code",
   "execution_count": 34,
   "id": "ed79f486",
   "metadata": {},
   "outputs": [
    {
     "name": "stdout",
     "output_type": "stream",
     "text": [
      "Enter a number: 67\n",
      "The number is positive.\n"
     ]
    }
   ],
   "source": [
    "def check_number(number):\n",
    "    if number > 0:\n",
    "        print(\"The number is positive.\")\n",
    "    elif number < 0:\n",
    "        print(\"The number is negative.\")\n",
    "    else:\n",
    "        print(\"The number is zero.\")\n",
    "\n",
    "# Input from user\n",
    "num = float(input(\"Enter a number: \"))\n",
    "check_number(num)\n"
   ]
  },
  {
   "cell_type": "code",
   "execution_count": 35,
   "id": "3748adda",
   "metadata": {},
   "outputs": [
    {
     "name": "stdout",
     "output_type": "stream",
     "text": [
      "Enter your age: 67\n",
      "You are eligible to vote.\n"
     ]
    }
   ],
   "source": [
    "def check_voting_eligibility(age):\n",
    "    if age >= 18:\n",
    "        print(\"You are eligible to vote.\")\n",
    "    else:\n",
    "        print(\"You are not eligible to vote yet.\")\n",
    "\n",
    "# Input from user\n",
    "age = int(input(\"Enter your age: \"))\n",
    "check_voting_eligibility(age)\n"
   ]
  },
  {
   "cell_type": "code",
   "execution_count": 36,
   "id": "3f4c83bc",
   "metadata": {},
   "outputs": [
    {
     "name": "stdout",
     "output_type": "stream",
     "text": [
      "Enter the first number: 65\n",
      "Enter the second number: 87\n",
      "The maximum of 65.0 and 87.0 is 87.0\n"
     ]
    }
   ],
   "source": [
    "def find_maximum(num1, num2):\n",
    "    if num1 > num2:\n",
    "        return num1\n",
    "    else:\n",
    "        return num2\n",
    "\n",
    "# Input from user\n",
    "number1 = float(input(\"Enter the first number: \"))\n",
    "number2 = float(input(\"Enter the second number: \"))\n",
    "\n",
    "# Find the maximum of the two numbers\n",
    "maximum_number = find_maximum(number1, number2)\n",
    "\n",
    "# Print the result\n",
    "print(\"The maximum of\", number1, \"and\", number2, \"is\", maximum_number)\n"
   ]
  },
  {
   "cell_type": "code",
   "execution_count": 37,
   "id": "d8ccad79",
   "metadata": {},
   "outputs": [
    {
     "name": "stdout",
     "output_type": "stream",
     "text": [
      "Enter the exam score: 456\n",
      "The grade for the exam score 456.0 is A\n"
     ]
    }
   ],
   "source": [
    "def calculate_grade(score):\n",
    "    if score >= 90:\n",
    "        return \"A\"\n",
    "    elif score >= 80:\n",
    "        return \"B\"\n",
    "    elif score >= 70:\n",
    "        return \"C\"\n",
    "    elif score >= 60:\n",
    "        return \"D\"\n",
    "    else:\n",
    "        return \"F\"\n",
    "\n",
    "# Input from user\n",
    "exam_score = float(input(\"Enter the exam score: \"))\n",
    "\n",
    "# Calculate the grade\n",
    "grade = calculate_grade(exam_score)\n",
    "\n",
    "# Print the result\n",
    "print(\"The grade for the exam score\", exam_score, \"is\", grade)\n"
   ]
  },
  {
   "cell_type": "code",
   "execution_count": 38,
   "id": "3c5dfa1a",
   "metadata": {},
   "outputs": [
    {
     "name": "stdout",
     "output_type": "stream",
     "text": [
      "Enter a year: 2022\n",
      "2022 is not a leap year.\n"
     ]
    }
   ],
   "source": [
    "def is_leap_year(year):\n",
    "    if (year % 4 == 0 and year % 100 != 0) or (year % 400 == 0):\n",
    "        return True\n",
    "    else:\n",
    "        return False\n",
    "\n",
    "# Input from user\n",
    "year = int(input(\"Enter a year: \"))\n",
    "\n",
    "# Check if the year is a leap year\n",
    "if is_leap_year(year):\n",
    "    print(year, \"is a leap year.\")\n",
    "else:\n",
    "    print(year, \"is not a leap year.\")\n"
   ]
  },
  {
   "cell_type": "code",
   "execution_count": 1,
   "id": "bee89969",
   "metadata": {},
   "outputs": [],
   "source": [
    "def classify_triangle(side1, side2, side3):\n",
    "    if side1 == side2 == side3:\n",
    "        return \"Equilateral Triangle\"\n",
    "    elif side1 == side2 or side1 == side3 or side2 == side3:\n",
    "        return \"Isosceles Triangle\"\n",
    "    else:\n",
    "        return \"Scalene Triangle\"\n",
    "\n",
    "def main():\n",
    "    side1 = float(input(\"Enter the length of the first side: \"))\n",
    "    side2 = float(input(\"Enter the length of the second side: \"))\n",
    "    side3 = float(input(\"Enter the length of the third side: \"))\n",
    "\n",
    "    if side1 <= 0 or side2 <= 0 or side3 <= 0:\n",
    "        print(\"Error: Side lengths must be positive.\")\n",
    "    elif side1 + side2 <= side3 or side1 + side3 <= side2 or side2 + side3 <= side1:\n",
    "        print(\"Error: The sum of the lengths of any two sides must be greater than the length of the third side.\")\n",
    "    else:\n",
    "        triangle\n"
   ]
  },
  {
   "cell_type": "code",
   "execution_count": 2,
   "id": "21c7d229",
   "metadata": {},
   "outputs": [
    {
     "name": "stdout",
     "output_type": "stream",
     "text": [
      "Enter the first number: 77\n",
      "Enter the second number: 7\n",
      "Enter the third number: 99\n",
      "The largest number is: 99.0\n"
     ]
    }
   ],
   "source": [
    "def largest_of_three(num1, num2, num3):\n",
    "    if num1 >= num2 and num1 >= num3:\n",
    "        return num1\n",
    "    elif num2 >= num1 and num2 >= num3:\n",
    "        return num2\n",
    "    else:\n",
    "        return num3\n",
    "\n",
    "def main():\n",
    "    num1 = float(input(\"Enter the first number: \"))\n",
    "    num2 = float(input(\"Enter the second number: \"))\n",
    "    num3 = float(input(\"Enter the third number: \"))\n",
    "\n",
    "    largest = largest_of_three(num1, num2, num3)\n",
    "    print(\"The largest number is:\", largest)\n",
    "\n",
    "if __name__ == \"__main__\":\n",
    "    main()\n"
   ]
  },
  {
   "cell_type": "code",
   "execution_count": 3,
   "id": "768c633b",
   "metadata": {},
   "outputs": [
    {
     "name": "stdout",
     "output_type": "stream",
     "text": [
      "Enter a character: h\n",
      "The character 'h' is a Consonant.\n"
     ]
    }
   ],
   "source": [
    "def check_vowel_or_consonant(char):\n",
    "    vowels = 'aeiouAEIOU'\n",
    "    if char.isalpha() and len(char) == 1:\n",
    "        if char in vowels:\n",
    "            return \"Vowel\"\n",
    "        else:\n",
    "            return \"Consonant\"\n",
    "    else:\n",
    "        return \"Not a valid alphabet character\"\n",
    "\n",
    "def main():\n",
    "    character = input(\"Enter a character: \")\n",
    "    result = check_vowel_or_consonant(character)\n",
    "    print(f\"The character '{character}' is a {result}.\")\n",
    "\n",
    "if __name__ == \"__main__\":\n",
    "    main()\n"
   ]
  },
  {
   "cell_type": "code",
   "execution_count": 1,
   "id": "9fbd9058",
   "metadata": {},
   "outputs": [
    {
     "name": "stdout",
     "output_type": "stream",
     "text": [
      "Enter the number of items in your cart: 2\n",
      "Enter the price of item 1: 2\n",
      "Enter the price of item 2: 3\n",
      "Enter the number of discounts: 2\n",
      "Enter the type of discount for discount 1 (percentage/fixed_amount): 2\n",
      "Enter the value of discount for discount 1: 1\n",
      "Enter the type of discount for discount 2 (percentage/fixed_amount): 2\n",
      "Enter the value of discount for discount 2: 2\n",
      "Total cost after discounts: 5.0\n"
     ]
    }
   ],
   "source": [
    "\n",
    "def calculate_total_cost(prices, discounts):\n",
    "    total_cost = sum(prices)\n",
    "    for discount in discounts:\n",
    "        if discount['type'] == 'percentage':\n",
    "            total_cost *= (1 - discount['value'] / 100)\n",
    "        elif discount['type'] == 'fixed_amount':\n",
    "            total_cost -= discount['value']\n",
    "    return total_cost\n",
    "\n",
    "def main():\n",
    "    num_items = int(input(\"Enter the number of items in your cart: \"))\n",
    "\n",
    "    prices = []\n",
    "    for i in range(num_items):\n",
    "        price = float(input(f\"Enter the price of item {i+1}: \"))\n",
    "        prices.append(price)\n",
    "\n",
    "    num_discounts = int(input(\"Enter the number of discounts: \"))\n",
    "\n",
    "    discounts = []\n",
    "    for i in range(num_discounts):\n",
    "        discount_type = input(f\"Enter the type of discount for discount {i+1} (percentage/fixed_amount): \")\n",
    "        discount_value = float(input(f\"Enter the value of discount for discount {i+1}: \"))\n",
    "        discount = {'type': discount_type, 'value': discount_value}\n",
    "        discounts.append(discount)\n",
    "\n",
    "    total_cost = calculate_total_cost(prices, discounts)\n",
    "    print(\"Total cost after discounts:\", total_cost)\n",
    "\n",
    "if __name__ == \"__main__\":\n",
    "    main()"
   ]
  },
  {
   "cell_type": "code",
   "execution_count": 2,
   "id": "63068c75",
   "metadata": {},
   "outputs": [
    {
     "name": "stdout",
     "output_type": "stream",
     "text": [
      "Enter a number: 1\n",
      "The number 1 is odd.\n"
     ]
    }
   ],
   "source": [
    "def check_even_or_odd(number):\n",
    "    if number % 2 == 0:\n",
    "        return \"even\"\n",
    "    else:\n",
    "        return \"odd\"\n",
    "\n",
    "def main():\n",
    "    num = int(input(\"Enter a number: \"))\n",
    "    result = check_even_or_odd(num)\n",
    "    print(f\"The number {num} is {result}.\")\n",
    "\n",
    "if __name__ == \"__main__\":\n",
    "    main()\n"
   ]
  },
  {
   "cell_type": "markdown",
   "id": "eee0c1ae",
   "metadata": {},
   "source": [
    "# Intermediate Level"
   ]
  },
  {
   "cell_type": "code",
   "execution_count": 3,
   "id": "64cebee9",
   "metadata": {},
   "outputs": [
    {
     "name": "stdout",
     "output_type": "stream",
     "text": [
      "Enter the coefficient of x^2 (a): 2\n",
      "Enter the coefficient of x (b): 10\n",
      "Enter the constant term (c): 23\n",
      "Roots of the quadratic equation:\n",
      "Root 1: (-2.5+2.29128784747792j)\n",
      "Root 2: (-2.5-2.29128784747792j)\n"
     ]
    }
   ],
   "source": [
    "import math\n",
    "\n",
    "def calculate_roots(a, b, c):\n",
    "    discriminant = b**2 - 4*a*c\n",
    "\n",
    "    if discriminant > 0:\n",
    "        root1 = (-b + math.sqrt(discriminant)) / (2*a)\n",
    "        root2 = (-b - math.sqrt(discriminant)) / (2*a)\n",
    "        return root1, root2\n",
    "    elif discriminant == 0:\n",
    "        root = -b / (2*a)\n",
    "        return root, root\n",
    "    else:\n",
    "        real_part = -b / (2*a)\n",
    "        imaginary_part = math.sqrt(abs(discriminant)) / (2*a)\n",
    "        root1 = complex(real_part, imaginary_part)\n",
    "        root2 = complex(real_part, -imaginary_part)\n",
    "        return root1, root2\n",
    "\n",
    "def main():\n",
    "    a = float(input(\"Enter the coefficient of x^2 (a): \"))\n",
    "    b = float(input(\"Enter the coefficient of x (b): \"))\n",
    "    c = float(input(\"Enter the constant term (c): \"))\n",
    "\n",
    "    root1, root2 = calculate_roots(a, b, c)\n",
    "\n",
    "    print(\"Roots of the quadratic equation:\")\n",
    "    print(\"Root 1:\", root1)\n",
    "    print(\"Root 2:\", root2)\n",
    "\n",
    "if __name__ == \"__main__\":\n",
    "    main()\n"
   ]
  },
  {
   "cell_type": "code",
   "execution_count": 7,
   "id": "ac458af3",
   "metadata": {},
   "outputs": [
    {
     "name": "stdout",
     "output_type": "stream",
     "text": [
      "Enter the day number (1-7): 6\n",
      "The day of the week is: Saturday\n"
     ]
    }
   ],
   "source": [
    "def get_day_of_week(day_number):\n",
    "    if day_number == 1:\n",
    "        return \"Monday\"\n",
    "    elif day_number == 2:\n",
    "        return \"Tuesday\"\n",
    "    elif day_number == 3:\n",
    "        return \"Wednesday\"\n",
    "    elif day_number == 4:\n",
    "        return \"Thursday\"\n",
    "    elif day_number == 5:\n",
    "        return \"Friday\"\n",
    "    elif day_number == 6:\n",
    "        return \"Saturday\"\n",
    "    elif day_number == 7:\n",
    "        return \"Sunday\"\n",
    "    else:\n",
    "        return \"Invalid day number. Please enter a number between 1 and 7.\"\n",
    "\n",
    "def main():\n",
    "    day_number = int(input(\"Enter the day number (1-7): \"))\n",
    "    day_of_week = get_day_of_week(day_number)\n",
    "    print(\"The day of the week is:\", day_of_week)\n",
    "\n",
    "if __name__ == \"__main__\":\n",
    "    main()\n"
   ]
  },
  {
   "cell_type": "markdown",
   "id": "6550144d",
   "metadata": {},
   "source": [
    "def factorial(n):\n",
    "    if n == 0:\n",
    "        return 1\n",
    "    else:\n",
    "        return n * factorial(n - 1)\n",
    "\n",
    "def main():\n",
    "    num = int(input(\"Enter a non-negative integer to calculate its factorial: \"))\n",
    "    if num < 0:\n",
    "        print(\"Factorial is not defined for negative numbers.\")\n",
    "    else:\n",
    "        result = factorial(num)\n",
    "        print(f\"The factorial of {num} is:\", result)\n",
    "\n",
    "if __name__ == \"__main__\":\n",
    "    main()\n"
   ]
  },
  {
   "cell_type": "code",
   "execution_count": 8,
   "id": "0e83afb0",
   "metadata": {},
   "outputs": [
    {
     "name": "stdout",
     "output_type": "stream",
     "text": [
      "Enter a non-negative integer to calculate its factorial: -8\n",
      "Factorial is not defined for negative numbers.\n"
     ]
    }
   ],
   "source": [
    "def factorial(n):\n",
    "    if n == 0:\n",
    "        return 1\n",
    "    else:\n",
    "        return n * factorial(n - 1)\n",
    "\n",
    "def main():\n",
    "    num = int(input(\"Enter a non-negative integer to calculate its factorial: \"))\n",
    "    if num < 0:\n",
    "        print(\"Factorial is not defined for negative numbers.\")\n",
    "    else:\n",
    "        result = factorial(num)\n",
    "        print(f\"The factorial of {num} is:\", result)\n",
    "\n",
    "if __name__ == \"__main__\":\n",
    "    main()\n"
   ]
  },
  {
   "cell_type": "code",
   "execution_count": 9,
   "id": "a536ccd3",
   "metadata": {},
   "outputs": [
    {
     "name": "stdout",
     "output_type": "stream",
     "text": [
      "Enter a number: 33\n",
      "The number 33.0 is positive.\n"
     ]
    }
   ],
   "source": [
    "def check_number(num):\n",
    "    if num > 0:\n",
    "        return \"positive\"\n",
    "    elif num < 0:\n",
    "        return \"negative\"\n",
    "    else:\n",
    "        return \"zero\"\n",
    "\n",
    "def main():\n",
    "    num = float(input(\"Enter a number: \"))\n",
    "    result = check_number(num)\n",
    "    print(f\"The number {num} is {result}.\")\n",
    "\n",
    "if __name__ == \"__main__\":\n",
    "    main()\n"
   ]
  },
  {
   "cell_type": "code",
   "execution_count": 16,
   "id": "c865ade4",
   "metadata": {},
   "outputs": [
    {
     "name": "stdout",
     "output_type": "stream",
     "text": [
      "Enter the first number: 1\n",
      "Enter the second number: 2\n",
      "Enter the third number: 3\n",
      "The largest number is: 3.0\n"
     ]
    }
   ],
   "source": [
    "def find_largest(num1, num2, num3):\n",
    "    if num1 >= num2 and num1 >= num3:\n",
    "        return num1\n",
    "    elif num2 >= num1 and num2 >= num3:\n",
    "        return num2\n",
    "    else:\n",
    "        return num3\n",
    "\n",
    "def main():\n",
    "    num1 = float(input(\"Enter the first number: \"))\n",
    "    num2 = float(input(\"Enter the second number: \"))\n",
    "    num3 = float(input(\"Enter the third number: \"))\n",
    "\n",
    "    largest = find_largest(num1, num2, num3)\n",
    "    print(\"The largest number is:\", largest)\n",
    "\n",
    "if __name__ == \"__main__\":\n",
    "    main()\n"
   ]
  },
  {
   "cell_type": "code",
   "execution_count": 17,
   "id": "f8825d2d",
   "metadata": {},
   "outputs": [
    {
     "name": "stdout",
     "output_type": "stream",
     "text": [
      "\n",
      "ATM Menu:\n",
      "1. Check Balance\n",
      "2. Deposit\n",
      "3. Withdraw\n",
      "4. Exit\n",
      "Enter your choice (1-4): 4\n",
      "Thank you for using our ATM. Goodbye!\n"
     ]
    }
   ],
   "source": [
    "def check_balance(balance):\n",
    "    print(f\"Your current balance is ${balance:.2f}\")\n",
    "\n",
    "def deposit(balance):\n",
    "    amount = float(input(\"Enter the amount you want to deposit: $\"))\n",
    "    balance += amount\n",
    "    print(f\"${amount:.2f} has been successfully deposited.\")\n",
    "    return balance\n",
    "\n",
    "def withdraw(balance):\n",
    "    amount = float(input(\"Enter the amount you want to withdraw: $\"))\n",
    "    if amount > balance:\n",
    "        print(\"Insufficient funds!\")\n",
    "    else:\n",
    "        balance -= amount\n",
    "        print(f\"${amount:.2f} has been successfully withdrawn.\")\n",
    "    return balance\n",
    "\n",
    "def main():\n",
    "    balance = 1000.00  # Initial balance\n",
    "    while True:\n",
    "        print(\"\\nATM Menu:\")\n",
    "        print(\"1. Check Balance\")\n",
    "        print(\"2. Deposit\")\n",
    "        print(\"3. Withdraw\")\n",
    "        print(\"4. Exit\")\n",
    "\n",
    "        choice = input(\"Enter your choice (1-4): \")\n",
    "\n",
    "        if choice == '1':\n",
    "            check_balance(balance)\n",
    "        elif choice == '2':\n",
    "            balance = deposit(balance)\n",
    "        elif choice == '3':\n",
    "            balance = withdraw(balance)\n",
    "        elif choice == '4':\n",
    "            print(\"Thank you for using our ATM. Goodbye!\")\n",
    "            break\n",
    "        else:\n",
    "            print(\"Invalid choice. Please enter a number from 1 to 4.\")\n",
    "\n",
    "if __name__ == \"__main__\":\n",
    "    main()\n"
   ]
  },
  {
   "cell_type": "code",
   "execution_count": 18,
   "id": "ea6284be",
   "metadata": {},
   "outputs": [
    {
     "name": "stdout",
     "output_type": "stream",
     "text": [
      "Enter a string: Roshan\n",
      "The string is not a palindrome.\n"
     ]
    }
   ],
   "source": [
    "def is_palindrome(string):\n",
    "    # Convert the string to lowercase and remove non-alphanumeric characters\n",
    "    cleaned_string = ''.join(char.lower() for char in string if char.isalnum())\n",
    "    # Check if the cleaned string is equal to its reverse\n",
    "    return cleaned_string == cleaned_string[::-1]\n",
    "\n",
    "def main():\n",
    "    string = input(\"Enter a string: \")\n",
    "    if is_palindrome(string):\n",
    "        print(\"The string is a palindrome.\")\n",
    "    else:\n",
    "        print(\"The string is not a palindrome.\")\n",
    "\n",
    "if __name__ == \"__main__\":\n",
    "    main()\n"
   ]
  },
  {
   "cell_type": "code",
   "execution_count": 19,
   "id": "bf7e9f24",
   "metadata": {},
   "outputs": [
    {
     "name": "stdout",
     "output_type": "stream",
     "text": [
      "Enter a list of numbers separated by spaces: 3\n",
      "The average of the numbers (excluding the smallest and largest) is: Not enough numbers to calculate the average.\n"
     ]
    }
   ],
   "source": [
    "def calculate_average(numbers):\n",
    "    if len(numbers) <= 2:\n",
    "        return \"Not enough numbers to calculate the average.\"\n",
    "    \n",
    "    # Exclude the smallest and largest values\n",
    "    numbers.sort()\n",
    "    trimmed_numbers = numbers[1:-1]\n",
    "    \n",
    "    # Calculate the sum of trimmed numbers\n",
    "    total = sum(trimmed_numbers)\n",
    "    \n",
    "    # Calculate the average\n",
    "    average = total / len(trimmed_numbers)\n",
    "    return average\n",
    "\n",
    "def main():\n",
    "    numbers = input(\"Enter a list of numbers separated by spaces: \").split()\n",
    "    numbers = [float(num) for num in numbers]\n",
    "    \n",
    "    average = calculate_average(numbers)\n",
    "    print(\"The average of the numbers (excluding the smallest and largest) is:\", average)\n",
    "\n",
    "if __name__ == \"__main__\":\n",
    "    main()\n"
   ]
  },
  {
   "cell_type": "code",
   "execution_count": 20,
   "id": "0ea985c7",
   "metadata": {},
   "outputs": [
    {
     "name": "stdout",
     "output_type": "stream",
     "text": [
      "Enter the temperature in Celsius: 2\n",
      "The temperature 2.0°C is equal to 35.6°F.\n"
     ]
    }
   ],
   "source": [
    "def celsius_to_fahrenheit(celsius):\n",
    "    fahrenheit = (celsius * 9/5) + 32\n",
    "    return fahrenheit\n",
    "\n",
    "def main():\n",
    "    celsius = float(input(\"Enter the temperature in Celsius: \"))\n",
    "    fahrenheit = celsius_to_fahrenheit(celsius)\n",
    "    print(f\"The temperature {celsius}°C is equal to {fahrenheit}°F.\")\n",
    "\n",
    "if __name__ == \"__main__\":\n",
    "    main()\n"
   ]
  },
  {
   "cell_type": "code",
   "execution_count": 21,
   "id": "140085e1",
   "metadata": {},
   "outputs": [
    {
     "name": "stdout",
     "output_type": "stream",
     "text": [
      "Welcome to the Basic Calculator!\n",
      "Operations available:\n",
      "1. Addition\n",
      "2. Subtraction\n",
      "3. Multiplication\n",
      "4. Division\n",
      "Enter your choice (1/2/3/4): 4\n",
      "Enter the first number: 7\n",
      "Enter the second number: 7\n",
      "The result of Division is: 1.0\n"
     ]
    }
   ],
   "source": [
    "def add(num1, num2):\n",
    "    return num1 + num2\n",
    "\n",
    "def subtract(num1, num2):\n",
    "    return num1 - num2\n",
    "\n",
    "def multiply(num1, num2):\n",
    "    return num1 * num2\n",
    "\n",
    "def divide(num1, num2):\n",
    "    if num2 == 0:\n",
    "        return \"Error: Division by zero\"\n",
    "    else:\n",
    "        return num1 / num2\n",
    "\n",
    "def main():\n",
    "    print(\"Welcome to the Basic Calculator!\")\n",
    "    print(\"Operations available:\")\n",
    "    print(\"1. Addition\")\n",
    "    print(\"2. Subtraction\")\n",
    "    print(\"3. Multiplication\")\n",
    "    print(\"4. Division\")\n",
    "\n",
    "    choice = input(\"Enter your choice (1/2/3/4): \")\n",
    "\n",
    "    num1 = float(input(\"Enter the first number: \"))\n",
    "    num2 = float(input(\"Enter the second number: \"))\n",
    "\n",
    "    if choice == '1':\n",
    "        result = add(num1, num2)\n",
    "        operation = \"Addition\"\n",
    "    elif choice == '2':\n",
    "        result = subtract(num1, num2)\n",
    "        operation = \"Subtraction\"\n",
    "    elif choice == '3':\n",
    "        result = multiply(num1, num2)\n",
    "        operation = \"Multiplication\"\n",
    "    elif choice == '4':\n",
    "        result = divide(num1, num2)\n",
    "        operation = \"Division\"\n",
    "    else:\n",
    "        print(\"Invalid choice. Please enter a number from 1 to 4.\")\n",
    "        return\n",
    "\n",
    "    print(f\"The result of {operation} is:\", result)\n",
    "\n",
    "if __name__ == \"__main__\":\n",
    "    main()\n"
   ]
  },
  {
   "cell_type": "code",
   "execution_count": 22,
   "id": "b49dd906",
   "metadata": {},
   "outputs": [
    {
     "name": "stdout",
     "output_type": "stream",
     "text": [
      "Welcome to the Cubic Equation Solver using Cardano's method!\n",
      "The cubic equation should be in the form: ax^3 + bx^2 + cx + d = 0\n",
      "Enter the coefficient a: 5\n",
      "Enter the coefficient b: 6\n",
      "Enter the coefficient c: 8\n",
      "Enter the constant term d: 9\n",
      "Roots of the cubic equation:\n",
      "Root 1: 0.795708+1.206004j\n"
     ]
    }
   ],
   "source": [
    "import math\n",
    "\n",
    "def calculate_cubic_roots(a, b, c, d):\n",
    "    # Step 1: Normalize coefficients\n",
    "    if a != 1:\n",
    "        b /= a\n",
    "        c /= a\n",
    "        d /= a\n",
    "\n",
    "    # Step 2: Calculate intermediate variables\n",
    "    p = c - (b ** 2) / 3\n",
    "    q = (b * c - 3 * d) / 6\n",
    "    r = (2 * (b ** 3) - 9 * b * c + 27 * d) / 27\n",
    "    delta = (q ** 2) + (r ** 2)\n",
    "\n",
    "    # Step 3: Check number of real roots\n",
    "    if delta > 0:\n",
    "        s = (-(r) + math.sqrt(delta)) ** (1 / 3)\n",
    "        t = (-(r) - math.sqrt(delta)) ** (1 / 3)\n",
    "        real_root = s + t - (b / 3)\n",
    "        return [real_root]\n",
    "    elif delta == 0:\n",
    "        if q == 0:\n",
    "            return [-b / 3]\n",
    "        else:\n",
    "            s = (-(r) + math.sqrt(delta)) ** (1 / 3)\n",
    "            real_root = 2 * s - (b / 3)\n",
    "            imaginary_root = -s - (b / 3)\n",
    "            return [real_root, imaginary_root]\n",
    "    else:\n",
    "        theta = math.acos(-r / math.sqrt(-(q ** 3)))\n",
    "        s = 2 * math.sqrt(-q) * math.cos(theta / 3)\n",
    "        t = 2 * math.sqrt(-q) * math.cos((theta + 2 * math.pi) / 3)\n",
    "        u = 2 * math.sqrt(-q) * math.cos((theta + 4 * math.pi) / 3)\n",
    "        real_root1 = s - (b / 3)\n",
    "        real_root2 = t - (b / 3)\n",
    "        real_root3 = u - (b / 3)\n",
    "        return [real_root1, real_root2, real_root3]\n",
    "\n",
    "def main():\n",
    "    print(\"Welcome to the Cubic Equation Solver using Cardano's method!\")\n",
    "    print(\"The cubic equation should be in the form: ax^3 + bx^2 + cx + d = 0\")\n",
    "    a = float(input(\"Enter the coefficient a: \"))\n",
    "    b = float(input(\"Enter the coefficient b: \"))\n",
    "    c = float(input(\"Enter the coefficient c: \"))\n",
    "    d = float(input(\"Enter the constant term d: \"))\n",
    "\n",
    "    roots = calculate_cubic_roots(a, b, c, d)\n",
    "    print(\"Roots of the cubic equation:\")\n",
    "    for i, root in enumerate(roots):\n",
    "        print(f\"Root {i + 1}: {root:.6f}\")\n",
    "\n",
    "if __name__ == \"__main__\":\n",
    "    main()\n"
   ]
  },
  {
   "cell_type": "markdown",
   "id": "1b82c6ac",
   "metadata": {},
   "source": [
    "# Advanced Level"
   ]
  },
  {
   "cell_type": "code",
   "execution_count": 23,
   "id": "ea971f34",
   "metadata": {},
   "outputs": [
    {
     "name": "stdout",
     "output_type": "stream",
     "text": [
      "Enter your income: 455\n",
      "Your income tax is: 45.5\n"
     ]
    }
   ],
   "source": [
    "def calculate_income_tax(income):\n",
    "    tax_brackets = [(0, 10000, 0.1), (10000, 30000, 0.2), (30000, 100000, 0.3), (100000, float('inf'), 0.4)]\n",
    "    tax = 0\n",
    "    for bracket in tax_brackets:\n",
    "        lower_bound, upper_bound, rate = bracket\n",
    "        if income <= lower_bound:\n",
    "            tax += 0\n",
    "        elif income <= upper_bound:\n",
    "            tax += (income - lower_bound) * rate\n",
    "        else:\n",
    "            tax += (upper_bound - lower_bound) * rate\n",
    "    return tax\n",
    "\n",
    "def main():\n",
    "    income = float(input(\"Enter your income: \"))\n",
    "    tax = calculate_income_tax(income)\n",
    "    print(\"Your income tax is:\", tax)\n",
    "\n",
    "if __name__ == \"__main__\":\n",
    "    main()\n"
   ]
  },
  {
   "cell_type": "code",
   "execution_count": 24,
   "id": "2d1604a8",
   "metadata": {},
   "outputs": [
    {
     "name": "stdout",
     "output_type": "stream",
     "text": [
      "Welcome to Rock-Paper-Scissors!\n",
      "Please choose one: rock, paper, or scissors\n",
      "Your choice: 56\n",
      "Invalid choice. Please choose rock, paper, or scissors.\n"
     ]
    }
   ],
   "source": [
    "import random\n",
    "\n",
    "def determine_winner(player_choice, computer_choice):\n",
    "    if player_choice == computer_choice:\n",
    "        return \"It's a tie!\"\n",
    "    elif (player_choice == 'rock' and computer_choice == 'scissors') or \\\n",
    "         (player_choice == 'paper' and computer_choice == 'rock') or \\\n",
    "         (player_choice == 'scissors' and computer_choice == 'paper'):\n",
    "        return \"You win!\"\n",
    "    else:\n",
    "        return \"Computer wins!\"\n",
    "\n",
    "def main():\n",
    "    choices = ['rock', 'paper', 'scissors']\n",
    "    computer_choice = random.choice(choices)\n",
    "    \n",
    "    print(\"Welcome to Rock-Paper-Scissors!\")\n",
    "    print(\"Please choose one: rock, paper, or scissors\")\n",
    "    player_choice = input(\"Your choice: \").lower()\n",
    "    \n",
    "    if player_choice not in choices:\n",
    "        print(\"Invalid choice. Please choose rock, paper, or scissors.\")\n",
    "        return\n",
    "    \n",
    "    print(f\"You chose: {player_choice}\")\n",
    "    print(f\"Computer chose: {computer_choice}\")\n",
    "    \n",
    "    result = determine_winner(player_choice, computer_choice)\n",
    "    print(result)\n",
    "\n",
    "if __name__ == \"__main__\":\n",
    "    main()\n"
   ]
  },
  {
   "cell_type": "code",
   "execution_count": 25,
   "id": "67afaf06",
   "metadata": {},
   "outputs": [
    {
     "name": "stdout",
     "output_type": "stream",
     "text": [
      "Enter the length of the password: 88585001\n",
      "Do you want the password to include special characters? (yes/no): 8868665\n"
     ]
    },
    {
     "name": "stderr",
     "output_type": "stream",
     "text": [
      "IOPub data rate exceeded.\n",
      "The notebook server will temporarily stop sending output\n",
      "to the client in order to avoid crashing it.\n",
      "To change this limit, set the config variable\n",
      "`--NotebookApp.iopub_data_rate_limit`.\n",
      "\n",
      "Current values:\n",
      "NotebookApp.iopub_data_rate_limit=1000000.0 (bytes/sec)\n",
      "NotebookApp.rate_limit_window=3.0 (secs)\n",
      "\n"
     ]
    }
   ],
   "source": [
    "import random\n",
    "import string\n",
    "\n",
    "def generate_password(length, complex):\n",
    "    characters = string.ascii_letters + string.digits\n",
    "    if complex:\n",
    "        characters += string.punctuation\n",
    "    \n",
    "    password = ''.join(random.choice(characters) for _ in range(length))\n",
    "    return password\n",
    "\n",
    "def main():\n",
    "    length = int(input(\"Enter the length of the password: \"))\n",
    "    complex_input = input(\"Do you want the password to include special characters? (yes/no): \")\n",
    "    complex = complex_input.lower() == 'yes'\n",
    "    \n",
    "    password = generate_password(length, complex)\n",
    "    print(\"Generated Password:\", password)\n",
    "\n",
    "if __name__ == \"__main__\":\n",
    "    main()\n"
   ]
  },
  {
   "cell_type": "code",
   "execution_count": 26,
   "id": "d90d2861",
   "metadata": {},
   "outputs": [
    {
     "name": "stdout",
     "output_type": "stream",
     "text": [
      "Welcome to the Text-Based Adventure Game!\n",
      "You find yourself standing in front of a mysterious cave.\n",
      "What would you like to do?\n",
      "Enter 'enter' to go into the cave or 'quit' to exit the game: 6\n",
      "Invalid choice. Please enter 'enter' or 'quit'.\n",
      "Enter 'enter' to go into the cave or 'quit' to exit the game: Quit\n",
      "Thanks for playing! Goodbye!\n"
     ]
    }
   ],
   "source": [
    "def start_game():\n",
    "    print(\"Welcome to the Text-Based Adventure Game!\")\n",
    "    print(\"You find yourself standing in front of a mysterious cave.\")\n",
    "    print(\"What would you like to do?\")\n",
    "\n",
    "    while True:\n",
    "        choice = input(\"Enter 'enter' to go into the cave or 'quit' to exit the game: \").lower()\n",
    "        if choice == 'enter':\n",
    "            enter_cave()\n",
    "        elif choice == 'quit':\n",
    "            print(\"Thanks for playing! Goodbye!\")\n",
    "            break\n",
    "        else:\n",
    "            print(\"Invalid choice. Please enter 'enter' or 'quit'.\")\n",
    "\n",
    "def enter_cave():\n",
    "    print(\"\\nYou enter the cave and see two paths diverging.\")\n",
    "    print(\"One path leads to the left, and the other to the right.\")\n",
    "\n",
    "    while True:\n",
    "        choice = input(\"Do you want to go 'left' or 'right'?: \").lower()\n",
    "        if choice == 'left':\n",
    "            left_path()\n",
    "            break\n",
    "        elif choice == 'right':\n",
    "            right_path()\n",
    "            break\n",
    "        else:\n",
    "            print(\"Invalid choice. Please enter 'left' or 'right'.\")\n",
    "\n",
    "def left_path():\n",
    "    print(\"\\nYou chose to go left and encounter a treasure chest.\")\n",
    "    print(\"Do you want to 'open' it or 'leave' it alone?\")\n",
    "\n",
    "    while True:\n",
    "        choice = input(\"Enter 'open' or 'leave': \").lower()\n",
    "        if choice == 'open':\n",
    "            print(\"Congratulations! You found a treasure!\")\n",
    "            break\n",
    "        elif choice == 'leave':\n",
    "            print(\"You leave the treasure chest alone and continue your journey.\")\n",
    "            break\n",
    "        else:\n",
    "            print(\"Invalid choice. Please enter 'open' or 'leave'.\")\n",
    "\n",
    "def right_path():\n",
    "    print(\"\\nYou chose to go right and encounter a sleeping dragon!\")\n",
    "    print(\"Do you want to 'wake' it up or 'sneak' past it?\")\n",
    "\n",
    "    while True:\n",
    "        choice = input(\"Enter 'wake' or 'sneak': \").lower()\n",
    "        if choice == 'wake':\n",
    "            print(\"The dragon wakes up and eats you! Game over.\")\n",
    "            break\n",
    "        elif choice == 'sneak':\n",
    "            print(\"You successfully sneak past the dragon and continue your journey.\")\n",
    "            break\n",
    "        else:\n",
    "            print(\"Invalid choice. Please enter 'wake' or 'sneak'.\")\n",
    "\n",
    "def main():\n",
    "    start_game()\n",
    "\n",
    "if __name__ == \"__main__\":\n",
    "    main()\n"
   ]
  },
  {
   "cell_type": "code",
   "execution_count": 29,
   "id": "a8e9cc78",
   "metadata": {},
   "outputs": [
    {
     "name": "stdout",
     "output_type": "stream",
     "text": [
      "Welcome to the Linear Equation Solver!\n",
      "This program solves equations of the form ax + b = 0\n",
      "Enter the coefficient 'a': 12\n",
      "Enter the constant term 'b': 34\n",
      "The solution to the equation 12.0x + 34.0 = 0 is x = -2.8333333333333335\n"
     ]
    }
   ],
   "source": [
    "def solve_linear_equation(a, b):\n",
    "    if a == 0:\n",
    "        if b == 0:\n",
    "            return \"Infinite solutions (identity equation)\"\n",
    "        else:\n",
    "            return \"No solution (contradiction)\"\n",
    "    else:\n",
    "        x = -b / a\n",
    "        return f\"The solution to the equation {a}x + {b} = 0 is x = {x}\"\n",
    "\n",
    "def main():\n",
    "    print(\"Welcome to the Linear Equation Solver!\")\n",
    "    print(\"This program solves equations of the form ax + b = 0\")\n",
    "\n",
    "    a = float(input(\"Enter the coefficient 'a': \"))\n",
    "    b = float(input(\"Enter the constant term 'b': \"))\n",
    "\n",
    "    result = solve_linear_equation(a, b)\n",
    "    print(result)\n",
    "\n",
    "if __name__ == \"__main__\":\n",
    "    main()\n"
   ]
  },
  {
   "cell_type": "code",
   "execution_count": 30,
   "id": "229d17ad",
   "metadata": {},
   "outputs": [
    {
     "name": "stdout",
     "output_type": "stream",
     "text": [
      "Welcome to the Basic Quiz Game!\n",
      "What is the capital of France?\n",
      "1. Paris\n",
      "2. London\n",
      "3. Berlin\n",
      "4. Madrid\n",
      "Enter your choice (1-4): Madrid\n",
      "Invalid choice. Please enter a number between 1 and 4.\n",
      "Enter your choice (1-4): London\n",
      "Invalid choice. Please enter a number between 1 and 4.\n",
      "Enter your choice (1-4): Berlin\n",
      "Invalid choice. Please enter a number between 1 and 4.\n",
      "Enter your choice (1-4): Paris\n",
      "Invalid choice. Please enter a number between 1 and 4.\n",
      "Enter your choice (1-4): 4\n",
      "Wrong! The correct answer is: Paris\n",
      "Which planet is known as the Red Planet?\n",
      "1. Mars\n",
      "2. Venus\n",
      "3. Jupiter\n",
      "4. Saturn\n",
      "Enter your choice (1-4): 3\n",
      "Wrong! The correct answer is: Mars\n",
      "Who wrote 'Romeo and Juliet'?\n",
      "1. William Shakespeare\n",
      "2. Charles Dickens\n",
      "3. Jane Austen\n",
      "4. Mark Twain\n",
      "Enter your choice (1-4): 2\n",
      "Wrong! The correct answer is: William Shakespeare\n",
      "What is the chemical symbol for water?\n",
      "1. H2O\n",
      "2. CO2\n",
      "3. NaCl\n",
      "4. O2\n",
      "Enter your choice (1-4): 1\n",
      "Correct!\n",
      "\n",
      "Your final score is: 1/4\n"
     ]
    }
   ],
   "source": [
    "def ask_question(question, options, correct_answer):\n",
    "    print(question)\n",
    "    for i, option in enumerate(options, start=1):\n",
    "        print(f\"{i}. {option}\")\n",
    "    \n",
    "    while True:\n",
    "        choice = input(\"Enter your choice (1-4): \")\n",
    "        if choice.isdigit():\n",
    "            choice = int(choice)\n",
    "            if 1 <= choice <= len(options):\n",
    "                break\n",
    "        print(\"Invalid choice. Please enter a number between 1 and 4.\")\n",
    "\n",
    "    if options[choice - 1] == correct_answer:\n",
    "        print(\"Correct!\")\n",
    "        return 1\n",
    "    else:\n",
    "        print(f\"Wrong! The correct answer is: {correct_answer}\")\n",
    "        return 0\n",
    "\n",
    "def main():\n",
    "    print(\"Welcome to the Basic Quiz Game!\")\n",
    "    score = 0\n",
    "\n",
    "    # Define questions and answers\n",
    "    questions = [\n",
    "        (\"What is the capital of France?\", [\"Paris\", \"London\", \"Berlin\", \"Madrid\"], \"Paris\"),\n",
    "        (\"Which planet is known as the Red Planet?\", [\"Mars\", \"Venus\", \"Jupiter\", \"Saturn\"], \"Mars\"),\n",
    "        (\"Who wrote 'Romeo and Juliet'?\", [\"William Shakespeare\", \"Charles Dickens\", \"Jane Austen\", \"Mark Twain\"], \"William Shakespeare\"),\n",
    "        (\"What is the chemical symbol for water?\", [\"H2O\", \"CO2\", \"NaCl\", \"O2\"], \"H2O\")\n",
    "    ]\n",
    "\n",
    "    # Ask each question and update the score\n",
    "    for question, options, correct_answer in questions:\n",
    "        score += ask_question(question, options, correct_answer)\n",
    "    \n",
    "    print(f\"\\nYour final score is: {score}/{len(questions)}\")\n",
    "\n",
    "if __name__ == \"__main__\":\n",
    "    main()\n"
   ]
  },
  {
   "cell_type": "code",
   "execution_count": 31,
   "id": "55e0bda4",
   "metadata": {},
   "outputs": [
    {
     "name": "stdout",
     "output_type": "stream",
     "text": [
      "Enter a year: 2002\n",
      "2002 is not a prime year.\n"
     ]
    }
   ],
   "source": [
    "def is_prime(year):\n",
    "    if year <= 1:\n",
    "        return False\n",
    "    elif year <= 3:\n",
    "        return True\n",
    "    elif year % 2 == 0 or year % 3 == 0:\n",
    "        return False\n",
    "    i = 5\n",
    "    while i * i <= year:\n",
    "        if year % i == 0 or year % (i + 2) == 0:\n",
    "            return False\n",
    "        i += 6\n",
    "    return True\n",
    "\n",
    "def main():\n",
    "    year = int(input(\"Enter a year: \"))\n",
    "    if is_prime(year):\n",
    "        print(f\"{year} is a prime year.\")\n",
    "    else:\n",
    "        print(f\"{year} is not a prime year.\")\n",
    "\n",
    "if __name__ == \"__main__\":\n",
    "    main()\n"
   ]
  },
  {
   "cell_type": "code",
   "execution_count": 32,
   "id": "a1eb0033",
   "metadata": {},
   "outputs": [
    {
     "name": "stdout",
     "output_type": "stream",
     "text": [
      "Enter the first number: 87654321\n",
      "Enter the second number: 9876543210\n",
      "Enter the third number: 6789054321\n",
      "The numbers in ascending order are: (87654321.0, 6789054321.0, 9876543210.0)\n"
     ]
    }
   ],
   "source": [
    "def sort_numbers(num1, num2, num3):\n",
    "    if num1 <= num2 and num1 <= num3:\n",
    "        min_num = num1\n",
    "        if num2 <= num3:\n",
    "            mid_num = num2\n",
    "            max_num = num3\n",
    "        else:\n",
    "            mid_num = num3\n",
    "            max_num = num2\n",
    "    elif num2 <= num1 and num2 <= num3:\n",
    "        min_num = num2\n",
    "        if num1 <= num3:\n",
    "            mid_num = num1\n",
    "            max_num = num3\n",
    "        else:\n",
    "            mid_num = num3\n",
    "            max_num = num1\n",
    "    else:\n",
    "        min_num = num3\n",
    "        if num1 <= num2:\n",
    "            mid_num = num1\n",
    "            max_num = num2\n",
    "        else:\n",
    "            mid_num = num2\n",
    "            max_num = num1\n",
    "    return min_num, mid_num, max_num\n",
    "\n",
    "def main():\n",
    "    num1 = float(input(\"Enter the first number: \"))\n",
    "    num2 = float(input(\"Enter the second number: \"))\n",
    "    num3 = float(input(\"Enter the third number: \"))\n",
    "\n",
    "    sorted_nums = sort_numbers(num1, num2, num3)\n",
    "    print(\"The numbers in ascending order are:\", sorted_nums)\n",
    "\n",
    "if __name__ == \"__main__\":\n",
    "    main()\n"
   ]
  },
  {
   "cell_type": "code",
   "execution_count": 33,
   "id": "9c277973",
   "metadata": {},
   "outputs": [
    {
     "name": "stdout",
     "output_type": "stream",
     "text": [
      "This program finds the roots of a quartic equation of the form ax^4 + bx^3 + cx^2 + dx + e = 0\n",
      "Enter the coefficient of x^4 (a): 4\n",
      "Enter the coefficient of x^3 (b): 5\n",
      "Enter the coefficient of x^2 (c): 3\n",
      "Enter the coefficient of x (d): 5\n",
      "Enter the constant term (e): 4\n",
      "Roots of the quartic equation:\n",
      "-0.952934422872475 - 0.303176492665086*I\n",
      "-0.952934422872475 + 0.303176492665086*I\n",
      "0.327934422872475 - 0.944700489200306*I\n",
      "0.327934422872475 + 0.944700489200306*I\n"
     ]
    }
   ],
   "source": [
    "import sympy as sp\n",
    "\n",
    "def find_quartic_roots(coefficients):\n",
    "    x = sp.Symbol('x')\n",
    "    equation = sum(coefficients[i] * x**(4-i) for i in range(5))\n",
    "    roots = sp.solve(equation, x)\n",
    "    return roots\n",
    "\n",
    "def main():\n",
    "    print(\"This program finds the roots of a quartic equation of the form ax^4 + bx^3 + cx^2 + dx + e = 0\")\n",
    "\n",
    "    # Input coefficients\n",
    "    a = float(input(\"Enter the coefficient of x^4 (a): \"))\n",
    "    b = float(input(\"Enter the coefficient of x^3 (b): \"))\n",
    "    c = float(input(\"Enter the coefficient of x^2 (c): \"))\n",
    "    d = float(input(\"Enter the coefficient of x (d): \"))\n",
    "    e = float(input(\"Enter the constant term (e): \"))\n",
    "\n",
    "    coefficients = [a, b, c, d, e]\n",
    "    roots = find_quartic_roots(coefficients)\n",
    "\n",
    "    print(\"Roots of the quartic equation:\")\n",
    "    for root in roots:\n",
    "        print(root.evalf())\n",
    "\n",
    "if __name__ == \"__main__\":\n",
    "    main()\n"
   ]
  },
  {
   "cell_type": "markdown",
   "id": "253c60eb",
   "metadata": {},
   "source": [
    "# Challenge Level"
   ]
  },
  {
   "cell_type": "code",
   "execution_count": 34,
   "id": "001aa684",
   "metadata": {},
   "outputs": [
    {
     "name": "stdout",
     "output_type": "stream",
     "text": [
      "Welcome to the Password Validator!\n",
      "Enter your password: 8858500104\n",
      "Invalid Password: Password should contain at least one uppercase letter.\n"
     ]
    }
   ],
   "source": [
    "import re\n",
    "\n",
    "def validate_password(password):\n",
    "    # Rule 1: Length should be at least 8 characters\n",
    "    if len(password) < 8:\n",
    "        return False, \"Password should be at least 8 characters long.\"\n",
    "\n",
    "    # Rule 2: Should contain at least one uppercase letter\n",
    "    if not any(char.isupper() for char in password):\n",
    "        return False, \"Password should contain at least one uppercase letter.\"\n",
    "\n",
    "    # Rule 3: Should contain at least one lowercase letter\n",
    "    if not any(char.islower() for char in password):\n",
    "        return False, \"Password should contain at least one lowercase letter.\"\n",
    "\n",
    "    # Rule 4: Should contain at least one digit\n",
    "    if not any(char.isdigit() for char in password):\n",
    "        return False, \"Password should contain at least one digit.\"\n",
    "\n",
    "    # Rule 5: Should contain at least one special character\n",
    "    if not re.search(r'[!@#$%^&*(),.?\":{}|<>]', password):\n",
    "        return False, \"Password should contain at least one special character.\"\n",
    "\n",
    "    return True, \"Password is valid.\"\n",
    "\n",
    "def main():\n",
    "    print(\"Welcome to the Password Validator!\")\n",
    "    password = input(\"Enter your password: \")\n",
    "\n",
    "    is_valid, message = validate_password(password)\n",
    "    if is_valid:\n",
    "        print(message)\n",
    "    else:\n",
    "        print(\"Invalid Password:\", message)\n",
    "\n",
    "if __name__ == \"__main__\":\n",
    "    main()\n"
   ]
  },
  {
   "cell_type": "code",
   "execution_count": 40,
   "id": "f27b54b9",
   "metadata": {},
   "outputs": [
    {
     "name": "stdout",
     "output_type": "stream",
     "text": [
      "Welcome to the Matrix Addition and Subtraction Program!\n",
      "Enter the number of rows in the matrices: 77\n",
      "Enter the number of columns in the matrices: 99\n",
      "\n",
      "Enter the elements of the first matrix:\n",
      "Enter the elements of the matrix (one row at a time):\n",
      "Enter element (1,1): 78\n",
      "Enter element (1,2): 89\n",
      "Enter element (1,3): 78\n",
      "Enter element (1,4): 86\n",
      "Enter element (1,5): 76\n",
      "Enter element (1,6): 67\n",
      "Enter element (1,7): 87\n",
      "Enter element (1,8): \n"
     ]
    },
    {
     "ename": "ValueError",
     "evalue": "could not convert string to float: ''",
     "output_type": "error",
     "traceback": [
      "\u001b[1;31m---------------------------------------------------------------------------\u001b[0m",
      "\u001b[1;31mValueError\u001b[0m                                Traceback (most recent call last)",
      "Cell \u001b[1;32mIn[40], line 59\u001b[0m\n\u001b[0;32m     56\u001b[0m     display_matrix(result_subtraction)\n\u001b[0;32m     58\u001b[0m \u001b[38;5;28;01mif\u001b[39;00m \u001b[38;5;18m__name__\u001b[39m \u001b[38;5;241m==\u001b[39m \u001b[38;5;124m\"\u001b[39m\u001b[38;5;124m__main__\u001b[39m\u001b[38;5;124m\"\u001b[39m:\n\u001b[1;32m---> 59\u001b[0m     main()\n",
      "Cell \u001b[1;32mIn[40], line 39\u001b[0m, in \u001b[0;36mmain\u001b[1;34m()\u001b[0m\n\u001b[0;32m     36\u001b[0m cols \u001b[38;5;241m=\u001b[39m \u001b[38;5;28mint\u001b[39m(\u001b[38;5;28minput\u001b[39m(\u001b[38;5;124m\"\u001b[39m\u001b[38;5;124mEnter the number of columns in the matrices: \u001b[39m\u001b[38;5;124m\"\u001b[39m))\n\u001b[0;32m     38\u001b[0m \u001b[38;5;28mprint\u001b[39m(\u001b[38;5;124m\"\u001b[39m\u001b[38;5;130;01m\\n\u001b[39;00m\u001b[38;5;124mEnter the elements of the first matrix:\u001b[39m\u001b[38;5;124m\"\u001b[39m)\n\u001b[1;32m---> 39\u001b[0m matrix1 \u001b[38;5;241m=\u001b[39m input_matrix(rows, cols)\n\u001b[0;32m     41\u001b[0m \u001b[38;5;28mprint\u001b[39m(\u001b[38;5;124m\"\u001b[39m\u001b[38;5;130;01m\\n\u001b[39;00m\u001b[38;5;124mEnter the elements of the second matrix:\u001b[39m\u001b[38;5;124m\"\u001b[39m)\n\u001b[0;32m     42\u001b[0m matrix2 \u001b[38;5;241m=\u001b[39m input_matrix(rows, cols)\n",
      "Cell \u001b[1;32mIn[40], line 25\u001b[0m, in \u001b[0;36minput_matrix\u001b[1;34m(rows, cols)\u001b[0m\n\u001b[0;32m     23\u001b[0m     row \u001b[38;5;241m=\u001b[39m []\n\u001b[0;32m     24\u001b[0m     \u001b[38;5;28;01mfor\u001b[39;00m j \u001b[38;5;129;01min\u001b[39;00m \u001b[38;5;28mrange\u001b[39m(cols):\n\u001b[1;32m---> 25\u001b[0m         row\u001b[38;5;241m.\u001b[39mappend(\u001b[38;5;28mfloat\u001b[39m(\u001b[38;5;28minput\u001b[39m(\u001b[38;5;124mf\u001b[39m\u001b[38;5;124m\"\u001b[39m\u001b[38;5;124mEnter element (\u001b[39m\u001b[38;5;132;01m{\u001b[39;00mi\u001b[38;5;241m+\u001b[39m\u001b[38;5;241m1\u001b[39m\u001b[38;5;132;01m}\u001b[39;00m\u001b[38;5;124m,\u001b[39m\u001b[38;5;132;01m{\u001b[39;00mj\u001b[38;5;241m+\u001b[39m\u001b[38;5;241m1\u001b[39m\u001b[38;5;132;01m}\u001b[39;00m\u001b[38;5;124m): \u001b[39m\u001b[38;5;124m\"\u001b[39m)))\n\u001b[0;32m     26\u001b[0m     matrix\u001b[38;5;241m.\u001b[39mappend(row)\n\u001b[0;32m     27\u001b[0m \u001b[38;5;28;01mreturn\u001b[39;00m matrix\n",
      "\u001b[1;31mValueError\u001b[0m: could not convert string to float: ''"
     ]
    }
   ],
   "source": [
    "def matrix_addition(matrix1, matrix2):\n",
    "    result = []\n",
    "    for i in range(len(matrix1)):\n",
    "        row = []\n",
    "        for j in range(len(matrix1[0])):\n",
    "            row.append(matrix1[i][j] + matrix2[i][j])\n",
    "        result.append(row)\n",
    "    return result\n",
    "\n",
    "def matrix_subtraction(matrix1, matrix2):\n",
    "    result = []\n",
    "    for i in range(len(matrix1)):\n",
    "        row = []\n",
    "        for j in range(len(matrix1[0])):\n",
    "            row.append(matrix1[i][j] - matrix2[i][j])\n",
    "        result.append(row)\n",
    "    return result\n",
    "\n",
    "def input_matrix(rows, cols):\n",
    "    matrix = []\n",
    "    print(\"Enter the elements of the matrix (one row at a time):\")\n",
    "    for i in range(rows):\n",
    "        row = []\n",
    "        for j in range(cols):\n",
    "            row.append(float(input(f\"Enter element ({i+1},{j+1}): \")))\n",
    "        matrix.append(row)\n",
    "    return matrix\n",
    "\n",
    "def display_matrix(matrix):\n",
    "    for row in matrix:\n",
    "        print(row)\n",
    "\n",
    "def main():\n",
    "    print(\"Welcome to the Matrix Addition and Subtraction Program!\")\n",
    "    rows = int(input(\"Enter the number of rows in the matrices: \"))\n",
    "    cols = int(input(\"Enter the number of columns in the matrices: \"))\n",
    "\n",
    "    print(\"\\nEnter the elements of the first matrix:\")\n",
    "    matrix1 = input_matrix(rows, cols)\n",
    "\n",
    "    print(\"\\nEnter the elements of the second matrix:\")\n",
    "    matrix2 = input_matrix(rows, cols)\n",
    "\n",
    "    print(\"\\nMatrix 1:\")\n",
    "    display_matrix(matrix1)\n",
    "\n",
    "    print(\"\\nMatrix 2:\")\n",
    "    display_matrix(matrix2)\n",
    "\n",
    "    print(\"\\nMatrix Addition:\")\n",
    "    result_addition = matrix_addition(matrix1, matrix2)\n",
    "    display_matrix(result_addition)\n",
    "\n",
    "    print(\"\\nMatrix Subtraction:\")\n",
    "    result_subtraction = matrix_subtraction(matrix1, matrix2)\n",
    "    display_matrix(result_subtraction)\n",
    "\n",
    "if __name__ == \"__main__\":\n",
    "    main()\n",
    "\n",
    "    "
   ]
  },
  {
   "cell_type": "code",
   "execution_count": 41,
   "id": "8f54fc78",
   "metadata": {},
   "outputs": [
    {
     "name": "stdout",
     "output_type": "stream",
     "text": [
      "Welcome to the Matrix Multiplication Program!\n",
      "Enter the number of rows in the first matrix: 32\n",
      "Enter the number of columns in the first matrix: 778\n",
      "Enter the number of rows in the second matrix: 76\n",
      "Enter the number of columns in the second matrix: 54\n",
      "Error: Matrices are not compatible for multiplication.\n"
     ]
    }
   ],
   "source": [
    "def matrix_multiplication(matrix1, matrix2):\n",
    "    # Get dimensions of matrices\n",
    "    rows1, cols1 = len(matrix1), len(matrix1[0])\n",
    "    rows2, cols2 = len(matrix2), len(matrix2[0])\n",
    "\n",
    "    # Check if matrices are compatible for multiplication\n",
    "    if cols1 != rows2:\n",
    "        return \"Matrices are not compatible for multiplication.\"\n",
    "\n",
    "    # Initialize result matrix with zeros\n",
    "    result = [[0 for _ in range(cols2)] for _ in range(rows1)]\n",
    "\n",
    "    # Perform matrix multiplication\n",
    "    for i in range(rows1):\n",
    "        for j in range(cols2):\n",
    "            for k in range(cols1):\n",
    "                result[i][j] += matrix1[i][k] * matrix2[k][j]\n",
    "\n",
    "    return result\n",
    "\n",
    "def input_matrix(rows, cols):\n",
    "    matrix = []\n",
    "    print(\"Enter the elements of the matrix (one row at a time):\")\n",
    "    for i in range(rows):\n",
    "        row = []\n",
    "        for j in range(cols):\n",
    "            row.append(float(input(f\"Enter element ({i+1},{j+1}): \")))\n",
    "        matrix.append(row)\n",
    "    return matrix\n",
    "\n",
    "def display_matrix(matrix):\n",
    "    for row in matrix:\n",
    "        print(row)\n",
    "\n",
    "def main():\n",
    "    print(\"Welcome to the Matrix Multiplication Program!\")\n",
    "    rows1 = int(input(\"Enter the number of rows in the first matrix: \"))\n",
    "    cols1 = int(input(\"Enter the number of columns in the first matrix: \"))\n",
    "\n",
    "    rows2 = int(input(\"Enter the number of rows in the second matrix: \"))\n",
    "    cols2 = int(input(\"Enter the number of columns in the second matrix: \"))\n",
    "\n",
    "    if cols1 != rows2:\n",
    "        print(\"Error: Matrices are not compatible for multiplication.\")\n",
    "        return\n",
    "\n",
    "    print(\"\\nEnter the elements of the first matrix:\")\n",
    "    matrix1 = input_matrix(rows1, cols1)\n",
    "\n",
    "    print(\"\\nEnter the elements of the second matrix:\")\n",
    "    matrix2 = input_matrix(rows2, cols2)\n",
    "\n",
    "    print(\"\\nMatrix 1:\")\n",
    "    display_matrix(matrix1)\n",
    "\n",
    "    print(\"\\nMatrix 2:\")\n",
    "    display_matrix(matrix2)\n",
    "\n",
    "    print(\"\\nMatrix Multiplication:\")\n",
    "    result = matrix_multiplication(matrix1, matrix2)\n",
    "    if isinstance(result, str):\n",
    "        print(result)\n",
    "    else:\n",
    "        display_matrix(result)\n",
    "\n",
    "if __name__ == \"__main__\":\n",
    "    main()\n"
   ]
  },
  {
   "cell_type": "code",
   "execution_count": 49,
   "id": "9928d1f2",
   "metadata": {},
   "outputs": [
    {
     "name": "stdout",
     "output_type": "stream",
     "text": [
      "Welcome to Tic-Tac-Toe against the Computer!\n",
      "Player: X, Computer: O\n",
      "  |   |  \n",
      "-----\n",
      "  |   |  \n",
      "-----\n",
      "  |   |  \n",
      "-----\n",
      "Enter row and column (0-2) separated by space: 1\n"
     ]
    },
    {
     "ename": "ValueError",
     "evalue": "not enough values to unpack (expected 2, got 1)",
     "output_type": "error",
     "traceback": [
      "\u001b[1;31m---------------------------------------------------------------------------\u001b[0m",
      "\u001b[1;31mValueError\u001b[0m                                Traceback (most recent call last)",
      "Cell \u001b[1;32mIn[49], line 60\u001b[0m\n\u001b[0;32m     57\u001b[0m             \u001b[38;5;28;01mbreak\u001b[39;00m\n\u001b[0;32m     59\u001b[0m \u001b[38;5;28;01mif\u001b[39;00m \u001b[38;5;18m__name__\u001b[39m \u001b[38;5;241m==\u001b[39m \u001b[38;5;124m\"\u001b[39m\u001b[38;5;124m__main__\u001b[39m\u001b[38;5;124m\"\u001b[39m:\n\u001b[1;32m---> 60\u001b[0m     main()\n",
      "Cell \u001b[1;32mIn[49], line 35\u001b[0m, in \u001b[0;36mmain\u001b[1;34m()\u001b[0m\n\u001b[0;32m     33\u001b[0m \u001b[38;5;28;01mwhile\u001b[39;00m \u001b[38;5;28;01mTrue\u001b[39;00m:\n\u001b[0;32m     34\u001b[0m     \u001b[38;5;28;01mif\u001b[39;00m player \u001b[38;5;241m==\u001b[39m \u001b[38;5;124m'\u001b[39m\u001b[38;5;124mX\u001b[39m\u001b[38;5;124m'\u001b[39m:\n\u001b[1;32m---> 35\u001b[0m         row, col \u001b[38;5;241m=\u001b[39m \u001b[38;5;28mmap\u001b[39m(\u001b[38;5;28mint\u001b[39m, \u001b[38;5;28minput\u001b[39m(\u001b[38;5;124m\"\u001b[39m\u001b[38;5;124mEnter row and column (0-2) separated by space: \u001b[39m\u001b[38;5;124m\"\u001b[39m)\u001b[38;5;241m.\u001b[39msplit())\n\u001b[0;32m     36\u001b[0m         \u001b[38;5;28;01mif\u001b[39;00m board[row][col] \u001b[38;5;241m==\u001b[39m \u001b[38;5;124m'\u001b[39m\u001b[38;5;124m \u001b[39m\u001b[38;5;124m'\u001b[39m:\n\u001b[0;32m     37\u001b[0m             board[row][col] \u001b[38;5;241m=\u001b[39m \u001b[38;5;124m'\u001b[39m\u001b[38;5;124mX\u001b[39m\u001b[38;5;124m'\u001b[39m\n",
      "\u001b[1;31mValueError\u001b[0m: not enough values to unpack (expected 2, got 1)"
     ]
    }
   ],
   "source": [
    "import random\n",
    "\n",
    "def print_board(board):\n",
    "    for row in board:\n",
    "        print(\" | \".join(row))\n",
    "        print(\"-\" * 5)\n",
    "\n",
    "def check_winner(board, player):\n",
    "    for row in board:\n",
    "        if all(cell == player for cell in row):\n",
    "            return True\n",
    "    for col in range(3):\n",
    "        if all(board[row][col] == player for row in range(3)):\n",
    "            return True\n",
    "    if all(board[i][i] == player for i in range(3)):\n",
    "        return True\n",
    "    if all(board[i][2-i] == player for i in range(3)):\n",
    "        return True\n",
    "    return False\n",
    "\n",
    "def computer_move(board):\n",
    "    empty_cells = [(i, j) for i in range(3) for j in range(3) if board[i][j] == ' ']\n",
    "    return random.choice(empty_cells)\n",
    "\n",
    "def main():\n",
    "    print(\"Welcome to Tic-Tac-Toe against the Computer!\")\n",
    "    print(\"Player: X, Computer: O\")\n",
    "    \n",
    "    board = [[' ' for _ in range(3)] for _ in range(3)]\n",
    "    player = 'X'\n",
    "    print_board(board)\n",
    "\n",
    "    while True:\n",
    "        if player == 'X':\n",
    "            row, col = map(int, input(\"Enter row and column (0-2) separated by space: \").split())\n",
    "            if board[row][col] == ' ':\n",
    "                board[row][col] = 'X'\n",
    "                player = 'O'\n",
    "            else:\n",
    "                print(\"Invalid move. Cell already taken.\")\n",
    "                continue\n",
    "        else:\n",
    "            row, col = computer_move(board)\n",
    "            board[row][col] = 'O'\n",
    "            player = 'X'\n",
    "\n",
    "        print_board(board)\n",
    "\n",
    "        if check_winner(board, 'X'):\n",
    "            print(\"Player X wins!\")\n",
    "            break\n",
    "        elif check_winner(board, 'O'):\n",
    "            print(\"Computer O wins!\")\n",
    "            break\n",
    "        elif all(cell != ' ' for row in board for cell in row):\n",
    "            print(\"It's a tie!\")\n",
    "            break\n",
    "\n",
    "if __name__ == \"__main__\":\n",
    "    main()\n"
   ]
  },
  {
   "cell_type": "code",
   "execution_count": 50,
   "id": "2f2a2e2e",
   "metadata": {},
   "outputs": [
    {
     "name": "stdout",
     "output_type": "stream",
     "text": [
      "Welcome to the Fibonacci Number Generator!\n",
      "Enter the number of Fibonacci numbers to generate: 67\n",
      "Fibonacci sequence up to term 67 : [0, 1, 1, 2, 3, 5, 8, 13, 21, 34, 55, 89, 144, 233, 377, 610, 987, 1597, 2584, 4181, 6765, 10946, 17711, 28657, 46368, 75025, 121393, 196418, 317811, 514229, 832040, 1346269, 2178309, 3524578, 5702887, 9227465, 14930352, 24157817, 39088169, 63245986, 102334155, 165580141, 267914296, 433494437, 701408733, 1134903170, 1836311903, 2971215073, 4807526976, 7778742049, 12586269025, 20365011074, 32951280099, 53316291173, 86267571272, 139583862445, 225851433717, 365435296162, 591286729879, 956722026041, 1548008755920, 2504730781961, 4052739537881, 6557470319842, 10610209857723, 17167680177565, 27777890035288, 44945570212853]\n"
     ]
    }
   ],
   "source": [
    "def generate_fibonacci(n):\n",
    "    fibonacci_sequence = [0, 1]\n",
    "\n",
    "    if n <= 1:\n",
    "        return fibonacci_sequence[:n + 1]\n",
    "\n",
    "    for i in range(2, n + 1):\n",
    "        next_fibonacci = fibonacci_sequence[i - 1] + fibonacci_sequence[i - 2]\n",
    "        fibonacci_sequence.append(next_fibonacci)\n",
    "\n",
    "    return fibonacci_sequence\n",
    "\n",
    "def main():\n",
    "    print(\"Welcome to the Fibonacci Number Generator!\")\n",
    "    n = int(input(\"Enter the number of Fibonacci numbers to generate: \"))\n",
    "\n",
    "    fibonacci_sequence = generate_fibonacci(n)\n",
    "    print(\"Fibonacci sequence up to term\", n, \":\", fibonacci_sequence)\n",
    "\n",
    "if __name__ == \"__main__\":\n",
    "    main()\n"
   ]
  },
  {
   "cell_type": "code",
   "execution_count": 51,
   "id": "c7919e4d",
   "metadata": {},
   "outputs": [
    {
     "name": "stdout",
     "output_type": "stream",
     "text": [
      "Welcome to the Fibonacci Number Calculator!\n",
      "Enter the term (n) of the Fibonacci sequence to calculate: 5\n",
      "The 5 th term of the Fibonacci sequence is: 5\n"
     ]
    }
   ],
   "source": [
    "def fibonacci(n, memo={}):\n",
    "    if n in memo:\n",
    "        return memo[n]\n",
    "    if n <= 1:\n",
    "        return n\n",
    "    memo[n] = fibonacci(n - 1, memo) + fibonacci(n - 2, memo)\n",
    "    return memo[n]\n",
    "\n",
    "def main():\n",
    "    print(\"Welcome to the Fibonacci Number Calculator!\")\n",
    "    n = int(input(\"Enter the term (n) of the Fibonacci sequence to calculate: \"))\n",
    "\n",
    "    fib_n = fibonacci(n)\n",
    "    print(\"The\", n, \"th term of the Fibonacci sequence is:\", fib_n)\n",
    "\n",
    "if __name__ == \"__main__\":\n",
    "    main()\n"
   ]
  },
  {
   "cell_type": "code",
   "execution_count": 52,
   "id": "1e688552",
   "metadata": {},
   "outputs": [
    {
     "name": "stdout",
     "output_type": "stream",
     "text": [
      "Welcome to the Calendar Generator!\n",
      "Enter the year: 2003\n",
      "Enter the month (1-12): 2\n",
      "February 2003\n",
      "Mo Tu We Th Fr Sa Su\n",
      "                     1  2 \n",
      " 3  4  5  6  7  8  9 \n",
      "10 11 12 13 14 15 16 \n",
      "17 18 19 20 21 22 23 \n",
      "24 25 26 27 28         \n"
     ]
    }
   ],
   "source": [
    "import calendar\n",
    "\n",
    "def generate_calendar(year, month):\n",
    "    # Check if the year is a leap year\n",
    "    is_leap_year = calendar.isleap(year)\n",
    "\n",
    "    # Get the calendar for the given month and year\n",
    "    cal = calendar.monthcalendar(year, month)\n",
    "\n",
    "    # Print the calendar header\n",
    "    print(calendar.month_name[month], year)\n",
    "    print(\"Mo Tu We Th Fr Sa Su\")\n",
    "\n",
    "    # Print the calendar\n",
    "    for week in cal:\n",
    "        for day in week:\n",
    "            if day == 0:\n",
    "                print(\"   \", end=\" \")  # Print empty space for days outside the month\n",
    "            else:\n",
    "                print(f\"{day:2}\", end=\" \")  # Print day with padding\n",
    "        print()\n",
    "\n",
    "def main():\n",
    "    print(\"Welcome to the Calendar Generator!\")\n",
    "    year = int(input(\"Enter the year: \"))\n",
    "    month = int(input(\"Enter the month (1-12): \"))\n",
    "\n",
    "    generate_calendar(year, month)\n",
    "\n",
    "if __name__ == \"__main__\":\n",
    "    main()\n"
   ]
  },
  {
   "cell_type": "code",
   "execution_count": 53,
   "id": "b6f2cefb",
   "metadata": {},
   "outputs": [
    {
     "name": "stdout",
     "output_type": "stream",
     "text": [
      "Welcome to Blackjack!\n",
      "\n",
      "Your hand:\n",
      "5 of Diamonds\n",
      "3 of Diamonds\n",
      "\n",
      "Computer's hand:\n",
      "Hidden card\n",
      "4 of Diamonds\n",
      "\n",
      "Do you want to hit or stand? (h/s): S\n",
      "\n",
      "Computer's hand:\n",
      "A of Spades\n",
      "4 of Diamonds\n",
      "9 of Clubs\n",
      "Q of Diamonds\n",
      "\n",
      "Player's hand value: 8\n",
      "Computer's hand value: 24\n",
      "Computer busted! Player wins.\n"
     ]
    }
   ],
   "source": [
    "import random\n",
    "\n",
    "def create_deck():\n",
    "    # Create a standard deck of 52 cards\n",
    "    ranks = ['2', '3', '4', '5', '6', '7', '8', '9', '10', 'J', 'Q', 'K', 'A']\n",
    "    suits = ['Hearts', 'Diamonds', 'Clubs', 'Spades']\n",
    "    deck = [(rank, suit) for rank in ranks for suit in suits]\n",
    "    random.shuffle(deck)\n",
    "    return deck\n",
    "\n",
    "def calculate_hand_value(hand):\n",
    "    # Calculate the value of the hand, treating 'A' as 11 unless it would cause the hand to bust\n",
    "    value = 0\n",
    "    num_aces = 0\n",
    "    for rank, _ in hand:\n",
    "        if rank.isdigit():\n",
    "            value += int(rank)\n",
    "        elif rank in ['J', 'Q', 'K']:\n",
    "            value += 10\n",
    "        else:  # 'A'\n",
    "            value += 11\n",
    "            num_aces += 1\n",
    "    # Adjust the value if necessary to account for Aces being 1 instead of 11\n",
    "    while value > 21 and num_aces > 0:\n",
    "        value -= 10\n",
    "        num_aces -= 1\n",
    "    return value\n",
    "\n",
    "def display_hand(hand, hidden=False):\n",
    "    if hidden:\n",
    "        print(\"Hidden card\")\n",
    "        for card in hand[1:]:\n",
    "            print(card[0], \"of\", card[1])\n",
    "    else:\n",
    "        for card in hand:\n",
    "            print(card[0], \"of\", card[1])\n",
    "\n",
    "def main():\n",
    "    print(\"Welcome to Blackjack!\")\n",
    "\n",
    "    # Create a deck of cards\n",
    "    deck = create_deck()\n",
    "\n",
    "    # Deal initial hands\n",
    "    player_hand = [deck.pop(), deck.pop()]\n",
    "    computer_hand = [deck.pop(), deck.pop()]\n",
    "\n",
    "    # Display player's hand\n",
    "    print(\"\\nYour hand:\")\n",
    "    display_hand(player_hand)\n",
    "\n",
    "    # Display computer's hand with one card hidden\n",
    "    print(\"\\nComputer's hand:\")\n",
    "    display_hand(computer_hand, hidden=True)\n",
    "\n",
    "    # Player's turn\n",
    "    while True:\n",
    "        choice = input(\"\\nDo you want to hit or stand? (h/s): \").lower()\n",
    "        if choice == 'h':\n",
    "            player_hand.append(deck.pop())\n",
    "            print(\"\\nYour hand:\")\n",
    "            display_hand(player_hand)\n",
    "            if calculate_hand_value(player_hand) > 21:\n",
    "                print(\"You busted! Computer wins.\")\n",
    "                return\n",
    "        elif choice == 's':\n",
    "            break\n",
    "        else:\n",
    "            print(\"Invalid choice. Please enter 'h' to hit or 's' to stand.\")\n",
    "\n",
    "    # Computer's turn\n",
    "    while calculate_hand_value(computer_hand) < 17:\n",
    "        computer_hand.append(deck.pop())\n",
    "\n",
    "    # Display computer's final hand\n",
    "    print(\"\\nComputer's hand:\")\n",
    "    display_hand(computer_hand)\n",
    "\n",
    "    # Determine the winner\n",
    "    player_value = calculate_hand_value(player_hand)\n",
    "    computer_value = calculate_hand_value(computer_hand)\n",
    "\n",
    "    print(\"\\nPlayer's hand value:\", player_value)\n",
    "    print(\"Computer's hand value:\", computer_value)\n",
    "\n",
    "    if player_value > 21:\n",
    "        print(\"Player busted! Computer wins.\")\n",
    "    elif computer_value > 21:\n",
    "        print(\"Computer busted! Player wins.\")\n",
    "    elif player_value > computer_value:\n",
    "        print(\"Player wins!\")\n",
    "    elif player_value < computer_value:\n",
    "        print(\"Computer wins.\")\n",
    "    else:\n",
    "        print(\"It's a tie!\")\n",
    "\n",
    "if __name__ == \"__main__\":\n",
    "    main()\n"
   ]
  },
  {
   "cell_type": "code",
   "execution_count": 54,
   "id": "8486faeb",
   "metadata": {},
   "outputs": [
    {
     "name": "stdout",
     "output_type": "stream",
     "text": [
      "Welcome to the Prime Factorization Program!\n",
      "Enter a number to find its prime factors: 88\n",
      "Prime factors of 88 are: [2, 2, 2, 11]\n"
     ]
    }
   ],
   "source": [
    "def prime_factors(n):\n",
    "    factors = []\n",
    "    divisor = 2\n",
    "    while n > 1:\n",
    "        while n % divisor == 0:\n",
    "            factors.append(divisor)\n",
    "            n //= divisor\n",
    "        divisor += 1\n",
    "    return factors\n",
    "\n",
    "def main():\n",
    "    print(\"Welcome to the Prime Factorization Program!\")\n",
    "    num = int(input(\"Enter a number to find its prime factors: \"))\n",
    "    if num < 2:\n",
    "        print(\"Prime factors cannot be found for numbers less than 2.\")\n",
    "    else:\n",
    "        factors = prime_factors(num)\n",
    "        print(\"Prime factors of\", num, \"are:\", factors)\n",
    "\n",
    "if __name__ == \"__main__\":\n",
    "    main()\n"
   ]
  },
  {
   "cell_type": "code",
   "execution_count": null,
   "id": "e89dfa65",
   "metadata": {},
   "outputs": [],
   "source": []
  }
 ],
 "metadata": {
  "kernelspec": {
   "display_name": "Python 3 (ipykernel)",
   "language": "python",
   "name": "python3"
  },
  "language_info": {
   "codemirror_mode": {
    "name": "ipython",
    "version": 3
   },
   "file_extension": ".py",
   "mimetype": "text/x-python",
   "name": "python",
   "nbconvert_exporter": "python",
   "pygments_lexer": "ipython3",
   "version": "3.11.5"
  }
 },
 "nbformat": 4,
 "nbformat_minor": 5
}
